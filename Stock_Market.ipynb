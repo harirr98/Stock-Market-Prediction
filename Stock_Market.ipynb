{
  "cells": [
    {
      "cell_type": "markdown",
      "metadata": {
        "id": "view-in-github",
        "colab_type": "text"
      },
      "source": [
        "<a href=\"https://colab.research.google.com/github/harirr98/Stock-Mraket-Prediction/blob/main/Stock_Market.ipynb\" target=\"_parent\"><img src=\"https://colab.research.google.com/assets/colab-badge.svg\" alt=\"Open In Colab\"/></a>"
      ]
    },
    {
      "cell_type": "markdown",
      "metadata": {
        "id": "wT6DN3hsQR0n"
      },
      "source": [
        "### Stock Market Prediction And Forecasting Using Stacked LSTM"
      ]
    },
    {
      "cell_type": "code",
      "source": [
        "from google.colab import drive\n",
        "drive.mount('/content/drive')"
      ],
      "metadata": {
        "colab": {
          "base_uri": "https://localhost:8080/"
        },
        "id": "a_1VNXbbQbmn",
        "outputId": "45218299-7f0f-4aa5-f9bd-77321fabb604"
      },
      "execution_count": 159,
      "outputs": [
        {
          "output_type": "stream",
          "name": "stdout",
          "text": [
            "Drive already mounted at /content/drive; to attempt to forcibly remount, call drive.mount(\"/content/drive\", force_remount=True).\n"
          ]
        }
      ]
    },
    {
      "cell_type": "code",
      "source": [
        "# CUDA: Let's check that Nvidia CUDA drivers are already pre-installed and which version is it.\n",
        "!/usr/local/cuda/bin/nvcc --version\n",
        "# We need to install the correct cuDNN according to this output"
      ],
      "metadata": {
        "colab": {
          "base_uri": "https://localhost:8080/"
        },
        "id": "sZsusSISQbYR",
        "outputId": "1c412019-f45e-465e-fd95-665ea81765b8"
      },
      "execution_count": 160,
      "outputs": [
        {
          "output_type": "stream",
          "name": "stdout",
          "text": [
            "nvcc: NVIDIA (R) Cuda compiler driver\n",
            "Copyright (c) 2005-2020 NVIDIA Corporation\n",
            "Built on Mon_Oct_12_20:09:46_PDT_2020\n",
            "Cuda compilation tools, release 11.1, V11.1.105\n",
            "Build cuda_11.1.TC455_06.29190527_0\n"
          ]
        }
      ]
    },
    {
      "cell_type": "code",
      "source": [
        "%env compute_capability=75"
      ],
      "metadata": {
        "colab": {
          "base_uri": "https://localhost:8080/"
        },
        "id": "RQM5R9uoR3xT",
        "outputId": "19c02c3a-c61c-4621-8527-034a19f4e861"
      },
      "execution_count": 190,
      "outputs": [
        {
          "output_type": "stream",
          "name": "stdout",
          "text": [
            "env: compute_capability=75\n"
          ]
        }
      ]
    },
    {
      "cell_type": "code",
      "source": [
        "%cd /content/drive/MyDrive/Stock Market"
      ],
      "metadata": {
        "colab": {
          "base_uri": "https://localhost:8080/"
        },
        "id": "X2heONdbR77r",
        "outputId": "85c35c88-8557-42f3-c6df-f8244b116ab7"
      },
      "execution_count": 191,
      "outputs": [
        {
          "output_type": "stream",
          "name": "stdout",
          "text": [
            "/content/drive/MyDrive/Stock Market\n"
          ]
        }
      ]
    },
    {
      "cell_type": "code",
      "execution_count": 163,
      "metadata": {
        "id": "10rANapXQR0t"
      },
      "outputs": [],
      "source": [
        "### Keras and Tensorflow >2.0"
      ]
    },
    {
      "cell_type": "code",
      "execution_count": 192,
      "metadata": {
        "id": "d-7MZ-tRQR0x"
      },
      "outputs": [],
      "source": [
        "import pandas as pd"
      ]
    },
    {
      "cell_type": "code",
      "execution_count": 193,
      "metadata": {
        "id": "b2x-asZzQR0x"
      },
      "outputs": [],
      "source": [
        "df=pd.read_csv('BTC-USD Training Data - 1st Jan 2016 to 1st Jan 2022.csv')"
      ]
    },
    {
      "cell_type": "code",
      "execution_count": 194,
      "metadata": {
        "colab": {
          "base_uri": "https://localhost:8080/",
          "height": 206
        },
        "id": "tLNEL1zGQR0y",
        "outputId": "4b06bcf1-600a-4abf-fcfd-e7073b9f572c"
      },
      "outputs": [
        {
          "output_type": "execute_result",
          "data": {
            "text/html": [
              "\n",
              "  <div id=\"df-00a366f4-e9b5-44aa-8442-465453261634\">\n",
              "    <div class=\"colab-df-container\">\n",
              "      <div>\n",
              "<style scoped>\n",
              "    .dataframe tbody tr th:only-of-type {\n",
              "        vertical-align: middle;\n",
              "    }\n",
              "\n",
              "    .dataframe tbody tr th {\n",
              "        vertical-align: top;\n",
              "    }\n",
              "\n",
              "    .dataframe thead th {\n",
              "        text-align: right;\n",
              "    }\n",
              "</style>\n",
              "<table border=\"1\" class=\"dataframe\">\n",
              "  <thead>\n",
              "    <tr style=\"text-align: right;\">\n",
              "      <th></th>\n",
              "      <th>Date</th>\n",
              "      <th>Open</th>\n",
              "      <th>High</th>\n",
              "      <th>Low</th>\n",
              "      <th>Close</th>\n",
              "      <th>Adj Close</th>\n",
              "      <th>Volume</th>\n",
              "    </tr>\n",
              "  </thead>\n",
              "  <tbody>\n",
              "    <tr>\n",
              "      <th>0</th>\n",
              "      <td>2016-01-01</td>\n",
              "      <td>430.721008</td>\n",
              "      <td>436.246002</td>\n",
              "      <td>427.515015</td>\n",
              "      <td>434.334015</td>\n",
              "      <td>434.334015</td>\n",
              "      <td>36278900</td>\n",
              "    </tr>\n",
              "    <tr>\n",
              "      <th>1</th>\n",
              "      <td>2016-01-02</td>\n",
              "      <td>434.622009</td>\n",
              "      <td>436.062012</td>\n",
              "      <td>431.869995</td>\n",
              "      <td>433.437988</td>\n",
              "      <td>433.437988</td>\n",
              "      <td>30096600</td>\n",
              "    </tr>\n",
              "    <tr>\n",
              "      <th>2</th>\n",
              "      <td>2016-01-03</td>\n",
              "      <td>433.578003</td>\n",
              "      <td>433.743011</td>\n",
              "      <td>424.705994</td>\n",
              "      <td>430.010986</td>\n",
              "      <td>430.010986</td>\n",
              "      <td>39633800</td>\n",
              "    </tr>\n",
              "    <tr>\n",
              "      <th>3</th>\n",
              "      <td>2016-01-04</td>\n",
              "      <td>430.061005</td>\n",
              "      <td>434.516998</td>\n",
              "      <td>429.084015</td>\n",
              "      <td>433.091003</td>\n",
              "      <td>433.091003</td>\n",
              "      <td>38477500</td>\n",
              "    </tr>\n",
              "    <tr>\n",
              "      <th>4</th>\n",
              "      <td>2016-01-05</td>\n",
              "      <td>433.069000</td>\n",
              "      <td>434.182007</td>\n",
              "      <td>429.675995</td>\n",
              "      <td>431.959991</td>\n",
              "      <td>431.959991</td>\n",
              "      <td>34522600</td>\n",
              "    </tr>\n",
              "  </tbody>\n",
              "</table>\n",
              "</div>\n",
              "      <button class=\"colab-df-convert\" onclick=\"convertToInteractive('df-00a366f4-e9b5-44aa-8442-465453261634')\"\n",
              "              title=\"Convert this dataframe to an interactive table.\"\n",
              "              style=\"display:none;\">\n",
              "        \n",
              "  <svg xmlns=\"http://www.w3.org/2000/svg\" height=\"24px\"viewBox=\"0 0 24 24\"\n",
              "       width=\"24px\">\n",
              "    <path d=\"M0 0h24v24H0V0z\" fill=\"none\"/>\n",
              "    <path d=\"M18.56 5.44l.94 2.06.94-2.06 2.06-.94-2.06-.94-.94-2.06-.94 2.06-2.06.94zm-11 1L8.5 8.5l.94-2.06 2.06-.94-2.06-.94L8.5 2.5l-.94 2.06-2.06.94zm10 10l.94 2.06.94-2.06 2.06-.94-2.06-.94-.94-2.06-.94 2.06-2.06.94z\"/><path d=\"M17.41 7.96l-1.37-1.37c-.4-.4-.92-.59-1.43-.59-.52 0-1.04.2-1.43.59L10.3 9.45l-7.72 7.72c-.78.78-.78 2.05 0 2.83L4 21.41c.39.39.9.59 1.41.59.51 0 1.02-.2 1.41-.59l7.78-7.78 2.81-2.81c.8-.78.8-2.07 0-2.86zM5.41 20L4 18.59l7.72-7.72 1.47 1.35L5.41 20z\"/>\n",
              "  </svg>\n",
              "      </button>\n",
              "      \n",
              "  <style>\n",
              "    .colab-df-container {\n",
              "      display:flex;\n",
              "      flex-wrap:wrap;\n",
              "      gap: 12px;\n",
              "    }\n",
              "\n",
              "    .colab-df-convert {\n",
              "      background-color: #E8F0FE;\n",
              "      border: none;\n",
              "      border-radius: 50%;\n",
              "      cursor: pointer;\n",
              "      display: none;\n",
              "      fill: #1967D2;\n",
              "      height: 32px;\n",
              "      padding: 0 0 0 0;\n",
              "      width: 32px;\n",
              "    }\n",
              "\n",
              "    .colab-df-convert:hover {\n",
              "      background-color: #E2EBFA;\n",
              "      box-shadow: 0px 1px 2px rgba(60, 64, 67, 0.3), 0px 1px 3px 1px rgba(60, 64, 67, 0.15);\n",
              "      fill: #174EA6;\n",
              "    }\n",
              "\n",
              "    [theme=dark] .colab-df-convert {\n",
              "      background-color: #3B4455;\n",
              "      fill: #D2E3FC;\n",
              "    }\n",
              "\n",
              "    [theme=dark] .colab-df-convert:hover {\n",
              "      background-color: #434B5C;\n",
              "      box-shadow: 0px 1px 3px 1px rgba(0, 0, 0, 0.15);\n",
              "      filter: drop-shadow(0px 1px 2px rgba(0, 0, 0, 0.3));\n",
              "      fill: #FFFFFF;\n",
              "    }\n",
              "  </style>\n",
              "\n",
              "      <script>\n",
              "        const buttonEl =\n",
              "          document.querySelector('#df-00a366f4-e9b5-44aa-8442-465453261634 button.colab-df-convert');\n",
              "        buttonEl.style.display =\n",
              "          google.colab.kernel.accessAllowed ? 'block' : 'none';\n",
              "\n",
              "        async function convertToInteractive(key) {\n",
              "          const element = document.querySelector('#df-00a366f4-e9b5-44aa-8442-465453261634');\n",
              "          const dataTable =\n",
              "            await google.colab.kernel.invokeFunction('convertToInteractive',\n",
              "                                                     [key], {});\n",
              "          if (!dataTable) return;\n",
              "\n",
              "          const docLinkHtml = 'Like what you see? Visit the ' +\n",
              "            '<a target=\"_blank\" href=https://colab.research.google.com/notebooks/data_table.ipynb>data table notebook</a>'\n",
              "            + ' to learn more about interactive tables.';\n",
              "          element.innerHTML = '';\n",
              "          dataTable['output_type'] = 'display_data';\n",
              "          await google.colab.output.renderOutput(dataTable, element);\n",
              "          const docLink = document.createElement('div');\n",
              "          docLink.innerHTML = docLinkHtml;\n",
              "          element.appendChild(docLink);\n",
              "        }\n",
              "      </script>\n",
              "    </div>\n",
              "  </div>\n",
              "  "
            ],
            "text/plain": [
              "         Date        Open        High  ...       Close   Adj Close    Volume\n",
              "0  2016-01-01  430.721008  436.246002  ...  434.334015  434.334015  36278900\n",
              "1  2016-01-02  434.622009  436.062012  ...  433.437988  433.437988  30096600\n",
              "2  2016-01-03  433.578003  433.743011  ...  430.010986  430.010986  39633800\n",
              "3  2016-01-04  430.061005  434.516998  ...  433.091003  433.091003  38477500\n",
              "4  2016-01-05  433.069000  434.182007  ...  431.959991  431.959991  34522600\n",
              "\n",
              "[5 rows x 7 columns]"
            ]
          },
          "metadata": {},
          "execution_count": 194
        }
      ],
      "source": [
        "df.head()"
      ]
    },
    {
      "cell_type": "code",
      "execution_count": 195,
      "metadata": {
        "colab": {
          "base_uri": "https://localhost:8080/",
          "height": 206
        },
        "id": "LtrCwHLFQR00",
        "outputId": "fbc67ea8-9137-4109-9f73-d68ed295e143"
      },
      "outputs": [
        {
          "output_type": "execute_result",
          "data": {
            "text/html": [
              "\n",
              "  <div id=\"df-a7d71267-c984-4fff-af4d-aa6a3c336e67\">\n",
              "    <div class=\"colab-df-container\">\n",
              "      <div>\n",
              "<style scoped>\n",
              "    .dataframe tbody tr th:only-of-type {\n",
              "        vertical-align: middle;\n",
              "    }\n",
              "\n",
              "    .dataframe tbody tr th {\n",
              "        vertical-align: top;\n",
              "    }\n",
              "\n",
              "    .dataframe thead th {\n",
              "        text-align: right;\n",
              "    }\n",
              "</style>\n",
              "<table border=\"1\" class=\"dataframe\">\n",
              "  <thead>\n",
              "    <tr style=\"text-align: right;\">\n",
              "      <th></th>\n",
              "      <th>Date</th>\n",
              "      <th>Open</th>\n",
              "      <th>High</th>\n",
              "      <th>Low</th>\n",
              "      <th>Close</th>\n",
              "      <th>Adj Close</th>\n",
              "      <th>Volume</th>\n",
              "    </tr>\n",
              "  </thead>\n",
              "  <tbody>\n",
              "    <tr>\n",
              "      <th>2188</th>\n",
              "      <td>2021-12-28</td>\n",
              "      <td>50679.859375</td>\n",
              "      <td>50679.859375</td>\n",
              "      <td>47414.210938</td>\n",
              "      <td>47588.855469</td>\n",
              "      <td>47588.855469</td>\n",
              "      <td>33430376883</td>\n",
              "    </tr>\n",
              "    <tr>\n",
              "      <th>2189</th>\n",
              "      <td>2021-12-29</td>\n",
              "      <td>47623.871094</td>\n",
              "      <td>48119.742188</td>\n",
              "      <td>46201.496094</td>\n",
              "      <td>46444.710938</td>\n",
              "      <td>46444.710938</td>\n",
              "      <td>30049226299</td>\n",
              "    </tr>\n",
              "    <tr>\n",
              "      <th>2190</th>\n",
              "      <td>2021-12-30</td>\n",
              "      <td>46490.605469</td>\n",
              "      <td>47879.964844</td>\n",
              "      <td>46060.312500</td>\n",
              "      <td>47178.125000</td>\n",
              "      <td>47178.125000</td>\n",
              "      <td>26686491018</td>\n",
              "    </tr>\n",
              "    <tr>\n",
              "      <th>2191</th>\n",
              "      <td>2021-12-31</td>\n",
              "      <td>47169.371094</td>\n",
              "      <td>48472.527344</td>\n",
              "      <td>45819.953125</td>\n",
              "      <td>46306.445313</td>\n",
              "      <td>46306.445313</td>\n",
              "      <td>36974172400</td>\n",
              "    </tr>\n",
              "    <tr>\n",
              "      <th>2192</th>\n",
              "      <td>2022-01-01</td>\n",
              "      <td>46311.746094</td>\n",
              "      <td>47827.312500</td>\n",
              "      <td>46288.484375</td>\n",
              "      <td>47686.812500</td>\n",
              "      <td>47686.812500</td>\n",
              "      <td>24582667004</td>\n",
              "    </tr>\n",
              "  </tbody>\n",
              "</table>\n",
              "</div>\n",
              "      <button class=\"colab-df-convert\" onclick=\"convertToInteractive('df-a7d71267-c984-4fff-af4d-aa6a3c336e67')\"\n",
              "              title=\"Convert this dataframe to an interactive table.\"\n",
              "              style=\"display:none;\">\n",
              "        \n",
              "  <svg xmlns=\"http://www.w3.org/2000/svg\" height=\"24px\"viewBox=\"0 0 24 24\"\n",
              "       width=\"24px\">\n",
              "    <path d=\"M0 0h24v24H0V0z\" fill=\"none\"/>\n",
              "    <path d=\"M18.56 5.44l.94 2.06.94-2.06 2.06-.94-2.06-.94-.94-2.06-.94 2.06-2.06.94zm-11 1L8.5 8.5l.94-2.06 2.06-.94-2.06-.94L8.5 2.5l-.94 2.06-2.06.94zm10 10l.94 2.06.94-2.06 2.06-.94-2.06-.94-.94-2.06-.94 2.06-2.06.94z\"/><path d=\"M17.41 7.96l-1.37-1.37c-.4-.4-.92-.59-1.43-.59-.52 0-1.04.2-1.43.59L10.3 9.45l-7.72 7.72c-.78.78-.78 2.05 0 2.83L4 21.41c.39.39.9.59 1.41.59.51 0 1.02-.2 1.41-.59l7.78-7.78 2.81-2.81c.8-.78.8-2.07 0-2.86zM5.41 20L4 18.59l7.72-7.72 1.47 1.35L5.41 20z\"/>\n",
              "  </svg>\n",
              "      </button>\n",
              "      \n",
              "  <style>\n",
              "    .colab-df-container {\n",
              "      display:flex;\n",
              "      flex-wrap:wrap;\n",
              "      gap: 12px;\n",
              "    }\n",
              "\n",
              "    .colab-df-convert {\n",
              "      background-color: #E8F0FE;\n",
              "      border: none;\n",
              "      border-radius: 50%;\n",
              "      cursor: pointer;\n",
              "      display: none;\n",
              "      fill: #1967D2;\n",
              "      height: 32px;\n",
              "      padding: 0 0 0 0;\n",
              "      width: 32px;\n",
              "    }\n",
              "\n",
              "    .colab-df-convert:hover {\n",
              "      background-color: #E2EBFA;\n",
              "      box-shadow: 0px 1px 2px rgba(60, 64, 67, 0.3), 0px 1px 3px 1px rgba(60, 64, 67, 0.15);\n",
              "      fill: #174EA6;\n",
              "    }\n",
              "\n",
              "    [theme=dark] .colab-df-convert {\n",
              "      background-color: #3B4455;\n",
              "      fill: #D2E3FC;\n",
              "    }\n",
              "\n",
              "    [theme=dark] .colab-df-convert:hover {\n",
              "      background-color: #434B5C;\n",
              "      box-shadow: 0px 1px 3px 1px rgba(0, 0, 0, 0.15);\n",
              "      filter: drop-shadow(0px 1px 2px rgba(0, 0, 0, 0.3));\n",
              "      fill: #FFFFFF;\n",
              "    }\n",
              "  </style>\n",
              "\n",
              "      <script>\n",
              "        const buttonEl =\n",
              "          document.querySelector('#df-a7d71267-c984-4fff-af4d-aa6a3c336e67 button.colab-df-convert');\n",
              "        buttonEl.style.display =\n",
              "          google.colab.kernel.accessAllowed ? 'block' : 'none';\n",
              "\n",
              "        async function convertToInteractive(key) {\n",
              "          const element = document.querySelector('#df-a7d71267-c984-4fff-af4d-aa6a3c336e67');\n",
              "          const dataTable =\n",
              "            await google.colab.kernel.invokeFunction('convertToInteractive',\n",
              "                                                     [key], {});\n",
              "          if (!dataTable) return;\n",
              "\n",
              "          const docLinkHtml = 'Like what you see? Visit the ' +\n",
              "            '<a target=\"_blank\" href=https://colab.research.google.com/notebooks/data_table.ipynb>data table notebook</a>'\n",
              "            + ' to learn more about interactive tables.';\n",
              "          element.innerHTML = '';\n",
              "          dataTable['output_type'] = 'display_data';\n",
              "          await google.colab.output.renderOutput(dataTable, element);\n",
              "          const docLink = document.createElement('div');\n",
              "          docLink.innerHTML = docLinkHtml;\n",
              "          element.appendChild(docLink);\n",
              "        }\n",
              "      </script>\n",
              "    </div>\n",
              "  </div>\n",
              "  "
            ],
            "text/plain": [
              "            Date          Open  ...     Adj Close       Volume\n",
              "2188  2021-12-28  50679.859375  ...  47588.855469  33430376883\n",
              "2189  2021-12-29  47623.871094  ...  46444.710938  30049226299\n",
              "2190  2021-12-30  46490.605469  ...  47178.125000  26686491018\n",
              "2191  2021-12-31  47169.371094  ...  46306.445313  36974172400\n",
              "2192  2022-01-01  46311.746094  ...  47686.812500  24582667004\n",
              "\n",
              "[5 rows x 7 columns]"
            ]
          },
          "metadata": {},
          "execution_count": 195
        }
      ],
      "source": [
        "df.tail()"
      ]
    },
    {
      "cell_type": "code",
      "execution_count": 196,
      "metadata": {
        "id": "xdGDVS17QR01"
      },
      "outputs": [],
      "source": [
        "df1=df.reset_index()['Close']"
      ]
    },
    {
      "cell_type": "code",
      "execution_count": 197,
      "metadata": {
        "colab": {
          "base_uri": "https://localhost:8080/"
        },
        "id": "DqIkOH3EQR02",
        "outputId": "191a3271-d2ec-4c9a-a257-2165915c64e5"
      },
      "outputs": [
        {
          "output_type": "execute_result",
          "data": {
            "text/plain": [
              "0         434.334015\n",
              "1         433.437988\n",
              "2         430.010986\n",
              "3         433.091003\n",
              "4         431.959991\n",
              "            ...     \n",
              "2188    47588.855469\n",
              "2189    46444.710938\n",
              "2190    47178.125000\n",
              "2191    46306.445313\n",
              "2192    47686.812500\n",
              "Name: Close, Length: 2193, dtype: float64"
            ]
          },
          "metadata": {},
          "execution_count": 197
        }
      ],
      "source": [
        "df1"
      ]
    },
    {
      "cell_type": "code",
      "execution_count": 198,
      "metadata": {
        "colab": {
          "base_uri": "https://localhost:8080/",
          "height": 284
        },
        "id": "Yr0ZAJM6QR02",
        "outputId": "a96f17b5-d700-4f15-b49c-4c64a340e7da"
      },
      "outputs": [
        {
          "output_type": "execute_result",
          "data": {
            "text/plain": [
              "[<matplotlib.lines.Line2D at 0x7f77ce96fe10>]"
            ]
          },
          "metadata": {},
          "execution_count": 198
        },
        {
          "output_type": "display_data",
          "data": {
            "image/png": "[encoded data removed]",
            "text/plain": [
              "<Figure size 432x288 with 1 Axes>"
            ]
          },
          "metadata": {
            "needs_background": "light"
          }
        }
      ],
      "source": [
        "import matplotlib.pyplot as plt\n",
        "plt.plot(df1)"
      ]
    },
    {
      "cell_type": "code",
      "execution_count": 199,
      "metadata": {
        "id": "E_4ACb82QR03"
      },
      "outputs": [],
      "source": [
        "### LSTM are sensitive to the scale of the data. so we apply MinMax scaler "
      ]
    },
    {
      "cell_type": "code",
      "execution_count": 200,
      "metadata": {
        "id": "wnR3C25qQR03"
      },
      "outputs": [],
      "source": [
        "import numpy as np"
      ]
    },
    {
      "cell_type": "code",
      "execution_count": 201,
      "metadata": {
        "colab": {
          "base_uri": "https://localhost:8080/"
        },
        "id": "5MTzSJscQR04",
        "outputId": "673b63b1-b2e8-44ce-d895-30a7d08819d9"
      },
      "outputs": [
        {
          "output_type": "execute_result",
          "data": {
            "text/plain": [
              "0         434.334015\n",
              "1         433.437988\n",
              "2         430.010986\n",
              "3         433.091003\n",
              "4         431.959991\n",
              "            ...     \n",
              "2188    47588.855469\n",
              "2189    46444.710938\n",
              "2190    47178.125000\n",
              "2191    46306.445313\n",
              "2192    47686.812500\n",
              "Name: Close, Length: 2193, dtype: float64"
            ]
          },
          "metadata": {},
          "execution_count": 201
        }
      ],
      "source": [
        "df1"
      ]
    },
    {
      "cell_type": "code",
      "execution_count": 202,
      "metadata": {
        "id": "ow3gS99_QR04"
      },
      "outputs": [],
      "source": [
        "from sklearn.preprocessing import MinMaxScaler\n",
        "scaler=MinMaxScaler(feature_range=(0,1))\n",
        "df1=scaler.fit_transform(np.array(df1).reshape(-1,1))"
      ]
    },
    {
      "cell_type": "code",
      "execution_count": 203,
      "metadata": {
        "colab": {
          "base_uri": "https://localhost:8080/"
        },
        "id": "YEDTJZVWQR04",
        "outputId": "7d39a92c-5f49-4987-eb4a-2fe3ca434fae"
      },
      "outputs": [
        {
          "output_type": "stream",
          "name": "stdout",
          "text": [
            "[[0.00104167]\n",
            " [0.00102834]\n",
            " [0.00097734]\n",
            " ...\n",
            " [0.69660795]\n",
            " [0.68363701]\n",
            " [0.70417743]]\n"
          ]
        }
      ],
      "source": [
        "print(df1)"
      ]
    },
    {
      "cell_type": "code",
      "execution_count": 204,
      "metadata": {
        "id": "BwccRR8QQR05"
      },
      "outputs": [],
      "source": [
        "##splitting dataset into train and test split\n",
        "training_size=int(len(df1)*0.65)\n",
        "test_size=len(df1)-training_size\n",
        "train_data,test_data=df1[0:training_size,:],df1[training_size:len(df1),:1]"
      ]
    },
    {
      "cell_type": "code",
      "execution_count": 205,
      "metadata": {
        "colab": {
          "base_uri": "https://localhost:8080/"
        },
        "id": "zk1IUmh9QR05",
        "outputId": "5eefbdc5-51e1-4eb7-f23a-36a59e16cf88"
      },
      "outputs": [
        {
          "output_type": "execute_result",
          "data": {
            "text/plain": [
              "(1425, 768)"
            ]
          },
          "metadata": {},
          "execution_count": 205
        }
      ],
      "source": [
        "training_size,test_size"
      ]
    },
    {
      "cell_type": "code",
      "execution_count": 206,
      "metadata": {
        "colab": {
          "base_uri": "https://localhost:8080/"
        },
        "id": "6WUAGiZ_QR06",
        "outputId": "1a8ea851-c8b3-4c17-e871-883674bb8012"
      },
      "outputs": [
        {
          "output_type": "execute_result",
          "data": {
            "text/plain": [
              "array([[0.00104167],\n",
              "       [0.00102834],\n",
              "       [0.00097734],\n",
              "       ...,\n",
              "       [0.10466078],\n",
              "       [0.09945443],\n",
              "       [0.10091593]])"
            ]
          },
          "metadata": {},
          "execution_count": 206
        }
      ],
      "source": [
        "train_data"
      ]
    },
    {
      "cell_type": "code",
      "execution_count": 207,
      "metadata": {
        "id": "_aAL2J4_QR07"
      },
      "outputs": [],
      "source": [
        "import numpy\n",
        "# convert an array of values into a dataset matrix\n",
        "def create_dataset(dataset, time_step=1):\n",
        "\tdataX, dataY = [], []\n",
        "\tfor i in range(len(dataset)-time_step-1):\n",
        "\t\ta = dataset[i:(i+time_step), 0]   ###i=0, 0,1,2,3-----99   100 \n",
        "\t\tdataX.append(a)\n",
        "\t\tdataY.append(dataset[i + time_step, 0])\n",
        "\treturn numpy.array(dataX), numpy.array(dataY)"
      ]
    },
    {
      "cell_type": "code",
      "execution_count": 208,
      "metadata": {
        "id": "6LOGNtuOQR07"
      },
      "outputs": [],
      "source": [
        "# reshape into X=t,t+1,t+2,t+3 and Y=t+4\n",
        "time_step = 100\n",
        "X_train, y_train = create_dataset(train_data, time_step)\n",
        "X_test, ytest = create_dataset(test_data, time_step)"
      ]
    },
    {
      "cell_type": "code",
      "execution_count": 209,
      "metadata": {
        "colab": {
          "base_uri": "https://localhost:8080/"
        },
        "id": "n3hnuBl9QR07",
        "outputId": "df4740ad-0d74-4c07-f713-0190e5d35433"
      },
      "outputs": [
        {
          "output_type": "stream",
          "name": "stdout",
          "text": [
            "(1324, 100)\n",
            "(1324,)\n"
          ]
        },
        {
          "output_type": "execute_result",
          "data": {
            "text/plain": [
              "(None, None)"
            ]
          },
          "metadata": {},
          "execution_count": 209
        }
      ],
      "source": [
        "print(X_train.shape), print(y_train.shape)"
      ]
    },
    {
      "cell_type": "code",
      "execution_count": 210,
      "metadata": {
        "colab": {
          "base_uri": "https://localhost:8080/"
        },
        "id": "wOYhMr9nQR08",
        "outputId": "4ff8cb58-828e-4b41-9014-b72f9d82f08b"
      },
      "outputs": [
        {
          "output_type": "stream",
          "name": "stdout",
          "text": [
            "(667, 100)\n",
            "(667,)\n"
          ]
        },
        {
          "output_type": "execute_result",
          "data": {
            "text/plain": [
              "(None, None)"
            ]
          },
          "metadata": {},
          "execution_count": 210
        }
      ],
      "source": [
        "print(X_test.shape), print(ytest.shape)"
      ]
    },
    {
      "cell_type": "code",
      "execution_count": 211,
      "metadata": {
        "id": "fxtGM-V8QR09"
      },
      "outputs": [],
      "source": [
        "# reshape input to be [samples, time steps, features] which is required for LSTM\n",
        "X_train =X_train.reshape(X_train.shape[0],X_train.shape[1] , 1)\n",
        "X_test = X_test.reshape(X_test.shape[0],X_test.shape[1] , 1)"
      ]
    },
    {
      "cell_type": "code",
      "execution_count": 212,
      "metadata": {
        "id": "GlRbBlKbQR09"
      },
      "outputs": [],
      "source": [
        "### Create the Stacked LSTM model\n",
        "from tensorflow.keras.models import Sequential\n",
        "from tensorflow.keras.layers import Dense\n",
        "from tensorflow.keras.layers import LSTM"
      ]
    },
    {
      "cell_type": "code",
      "execution_count": 213,
      "metadata": {
        "id": "2PIETP4iQR09"
      },
      "outputs": [],
      "source": [
        "model=Sequential()\n",
        "model.add(LSTM(50,return_sequences=True,input_shape=(100,1)))\n",
        "model.add(LSTM(50,return_sequences=True))\n",
        "model.add(LSTM(50))\n",
        "model.add(Dense(1))\n",
        "model.compile(loss='mean_squared_error',optimizer='adam')\n"
      ]
    },
    {
      "cell_type": "code",
      "execution_count": 214,
      "metadata": {
        "colab": {
          "base_uri": "https://localhost:8080/"
        },
        "id": "jO_c4mtDQR0-",
        "outputId": "ef94dc03-e6da-447a-ccfa-5f2ecff1547d"
      },
      "outputs": [
        {
          "output_type": "stream",
          "name": "stdout",
          "text": [
            "Model: \"sequential_4\"\n",
            "_________________________________________________________________\n",
            " Layer (type)                Output Shape              Param #   \n",
            "=================================================================\n",
            " lstm_12 (LSTM)              (None, 100, 50)           10400     \n",
            "                                                                 \n",
            " lstm_13 (LSTM)              (None, 100, 50)           20200     \n",
            "                                                                 \n",
            " lstm_14 (LSTM)              (None, 50)                20200     \n",
            "                                                                 \n",
            " dense_4 (Dense)             (None, 1)                 51        \n",
            "                                                                 \n",
            "=================================================================\n",
            "Total params: 50,851\n",
            "Trainable params: 50,851\n",
            "Non-trainable params: 0\n",
            "_________________________________________________________________\n"
          ]
        }
      ],
      "source": [
        "model.summary()"
      ]
    },
    {
      "cell_type": "code",
      "execution_count": 215,
      "metadata": {
        "colab": {
          "base_uri": "https://localhost:8080/"
        },
        "id": "UkPUGRP_QR0-",
        "outputId": "2c7e2c74-d441-431f-8348-8b82a9e51080"
      },
      "outputs": [
        {
          "output_type": "stream",
          "name": "stdout",
          "text": [
            "Model: \"sequential_4\"\n",
            "_________________________________________________________________\n",
            " Layer (type)                Output Shape              Param #   \n",
            "=================================================================\n",
            " lstm_12 (LSTM)              (None, 100, 50)           10400     \n",
            "                                                                 \n",
            " lstm_13 (LSTM)              (None, 100, 50)           20200     \n",
            "                                                                 \n",
            " lstm_14 (LSTM)              (None, 50)                20200     \n",
            "                                                                 \n",
            " dense_4 (Dense)             (None, 1)                 51        \n",
            "                                                                 \n",
            "=================================================================\n",
            "Total params: 50,851\n",
            "Trainable params: 50,851\n",
            "Non-trainable params: 0\n",
            "_________________________________________________________________\n"
          ]
        }
      ],
      "source": [
        "model.summary()"
      ]
    },
    {
      "cell_type": "code",
      "execution_count": 218,
      "metadata": {
        "colab": {
          "base_uri": "https://localhost:8080/"
        },
        "id": "AKAVMFiLQR0-",
        "outputId": "60e450b6-e793-47cb-d559-ea9d35f45436"
      },
      "outputs": [
        {
          "output_type": "stream",
          "name": "stdout",
          "text": [
            "Epoch 1/150\n",
            "21/21 [==============================] - 9s 419ms/step - loss: 3.0018e-05 - val_loss: 0.0043\n",
            "Epoch 2/150\n",
            "21/21 [==============================] - 5s 241ms/step - loss: 3.0220e-05 - val_loss: 0.0038\n",
            "Epoch 3/150\n",
            "21/21 [==============================] - 5s 237ms/step - loss: 3.2367e-05 - val_loss: 0.0026\n",
            "Epoch 4/150\n",
            "21/21 [==============================] - 5s 239ms/step - loss: 3.0796e-05 - val_loss: 0.0040\n",
            "Epoch 5/150\n",
            "21/21 [==============================] - 5s 242ms/step - loss: 2.8261e-05 - val_loss: 0.0039\n",
            "Epoch 6/150\n",
            "21/21 [==============================] - 5s 233ms/step - loss: 2.6962e-05 - val_loss: 0.0034\n",
            "Epoch 7/150\n",
            "21/21 [==============================] - 5s 231ms/step - loss: 2.6665e-05 - val_loss: 0.0024\n",
            "Epoch 8/150\n",
            "21/21 [==============================] - 5s 237ms/step - loss: 2.8615e-05 - val_loss: 0.0035\n",
            "Epoch 9/150\n",
            "21/21 [==============================] - 5s 241ms/step - loss: 2.7375e-05 - val_loss: 0.0036\n",
            "Epoch 10/150\n",
            "21/21 [==============================] - 5s 236ms/step - loss: 2.7735e-05 - val_loss: 0.0031\n",
            "Epoch 11/150\n",
            "21/21 [==============================] - 5s 236ms/step - loss: 2.7077e-05 - val_loss: 0.0028\n",
            "Epoch 12/150\n",
            "21/21 [==============================] - 5s 238ms/step - loss: 2.8628e-05 - val_loss: 0.0026\n",
            "Epoch 13/150\n",
            "21/21 [==============================] - 5s 233ms/step - loss: 2.8047e-05 - val_loss: 0.0026\n",
            "Epoch 14/150\n",
            "21/21 [==============================] - 5s 238ms/step - loss: 2.6395e-05 - val_loss: 0.0037\n",
            "Epoch 15/150\n",
            "21/21 [==============================] - 5s 240ms/step - loss: 3.0651e-05 - val_loss: 0.0041\n",
            "Epoch 16/150\n",
            "21/21 [==============================] - 5s 242ms/step - loss: 2.7418e-05 - val_loss: 0.0044\n",
            "Epoch 17/150\n",
            "21/21 [==============================] - 5s 240ms/step - loss: 2.9424e-05 - val_loss: 0.0034\n",
            "Epoch 18/150\n",
            "21/21 [==============================] - 5s 236ms/step - loss: 2.6360e-05 - val_loss: 0.0029\n",
            "Epoch 19/150\n",
            "21/21 [==============================] - 5s 237ms/step - loss: 2.7951e-05 - val_loss: 0.0029\n",
            "Epoch 20/150\n",
            "21/21 [==============================] - 5s 237ms/step - loss: 2.6089e-05 - val_loss: 0.0035\n",
            "Epoch 21/150\n",
            "21/21 [==============================] - 5s 234ms/step - loss: 2.6470e-05 - val_loss: 0.0027\n",
            "Epoch 22/150\n",
            "21/21 [==============================] - 5s 234ms/step - loss: 2.9570e-05 - val_loss: 0.0033\n",
            "Epoch 23/150\n",
            "21/21 [==============================] - 6s 290ms/step - loss: 2.6164e-05 - val_loss: 0.0045\n",
            "Epoch 24/150\n",
            "21/21 [==============================] - 5s 240ms/step - loss: 3.0415e-05 - val_loss: 0.0028\n",
            "Epoch 25/150\n",
            "21/21 [==============================] - 5s 237ms/step - loss: 2.7280e-05 - val_loss: 0.0042\n",
            "Epoch 26/150\n",
            "21/21 [==============================] - 5s 240ms/step - loss: 3.0180e-05 - val_loss: 0.0035\n",
            "Epoch 27/150\n",
            "21/21 [==============================] - 5s 242ms/step - loss: 3.4510e-05 - val_loss: 0.0046\n",
            "Epoch 28/150\n",
            "21/21 [==============================] - 5s 245ms/step - loss: 2.9625e-05 - val_loss: 0.0045\n",
            "Epoch 29/150\n",
            "21/21 [==============================] - 5s 245ms/step - loss: 2.6746e-05 - val_loss: 0.0045\n",
            "Epoch 30/150\n",
            "21/21 [==============================] - 5s 240ms/step - loss: 2.7108e-05 - val_loss: 0.0032\n",
            "Epoch 31/150\n",
            "21/21 [==============================] - 6s 287ms/step - loss: 2.7966e-05 - val_loss: 0.0040\n",
            "Epoch 32/150\n",
            "21/21 [==============================] - 5s 241ms/step - loss: 3.1187e-05 - val_loss: 0.0032\n",
            "Epoch 33/150\n",
            "21/21 [==============================] - 5s 243ms/step - loss: 2.7064e-05 - val_loss: 0.0041\n",
            "Epoch 34/150\n",
            "21/21 [==============================] - 5s 239ms/step - loss: 2.7589e-05 - val_loss: 0.0031\n",
            "Epoch 35/150\n",
            "21/21 [==============================] - 5s 241ms/step - loss: 2.9696e-05 - val_loss: 0.0044\n",
            "Epoch 36/150\n",
            "21/21 [==============================] - 5s 243ms/step - loss: 3.7754e-05 - val_loss: 0.0049\n",
            "Epoch 37/150\n",
            "21/21 [==============================] - 5s 243ms/step - loss: 3.0126e-05 - val_loss: 0.0055\n",
            "Epoch 38/150\n",
            "21/21 [==============================] - 5s 240ms/step - loss: 2.7191e-05 - val_loss: 0.0029\n",
            "Epoch 39/150\n",
            "21/21 [==============================] - 5s 240ms/step - loss: 2.8592e-05 - val_loss: 0.0035\n",
            "Epoch 40/150\n",
            "21/21 [==============================] - 5s 246ms/step - loss: 2.5872e-05 - val_loss: 0.0033\n",
            "Epoch 41/150\n",
            "21/21 [==============================] - 5s 243ms/step - loss: 2.5726e-05 - val_loss: 0.0043\n",
            "Epoch 42/150\n",
            "21/21 [==============================] - 5s 237ms/step - loss: 3.1028e-05 - val_loss: 0.0035\n",
            "Epoch 43/150\n",
            "21/21 [==============================] - 5s 238ms/step - loss: 3.3344e-05 - val_loss: 0.0031\n",
            "Epoch 44/150\n",
            "21/21 [==============================] - 5s 236ms/step - loss: 3.4702e-05 - val_loss: 0.0034\n",
            "Epoch 45/150\n",
            "21/21 [==============================] - 5s 242ms/step - loss: 2.9812e-05 - val_loss: 0.0026\n",
            "Epoch 46/150\n",
            "21/21 [==============================] - 5s 248ms/step - loss: 3.2363e-05 - val_loss: 0.0027\n",
            "Epoch 47/150\n",
            "21/21 [==============================] - 5s 246ms/step - loss: 2.8423e-05 - val_loss: 0.0034\n",
            "Epoch 48/150\n",
            "21/21 [==============================] - 5s 237ms/step - loss: 2.6533e-05 - val_loss: 0.0035\n",
            "Epoch 49/150\n",
            "21/21 [==============================] - 5s 243ms/step - loss: 2.7772e-05 - val_loss: 0.0040\n",
            "Epoch 50/150\n",
            "21/21 [==============================] - 5s 240ms/step - loss: 2.7133e-05 - val_loss: 0.0039\n",
            "Epoch 51/150\n",
            "21/21 [==============================] - 5s 243ms/step - loss: 2.7038e-05 - val_loss: 0.0031\n",
            "Epoch 52/150\n",
            "21/21 [==============================] - 5s 242ms/step - loss: 2.7141e-05 - val_loss: 0.0033\n",
            "Epoch 53/150\n",
            "21/21 [==============================] - 5s 237ms/step - loss: 2.9947e-05 - val_loss: 0.0040\n",
            "Epoch 54/150\n",
            "21/21 [==============================] - 5s 234ms/step - loss: 2.6450e-05 - val_loss: 0.0034\n",
            "Epoch 55/150\n",
            "21/21 [==============================] - 5s 235ms/step - loss: 2.7175e-05 - val_loss: 0.0051\n",
            "Epoch 56/150\n",
            "21/21 [==============================] - 5s 237ms/step - loss: 2.8251e-05 - val_loss: 0.0046\n",
            "Epoch 57/150\n",
            "21/21 [==============================] - 5s 242ms/step - loss: 2.8788e-05 - val_loss: 0.0033\n",
            "Epoch 58/150\n",
            "21/21 [==============================] - 5s 243ms/step - loss: 2.6218e-05 - val_loss: 0.0042\n",
            "Epoch 59/150\n",
            "21/21 [==============================] - 5s 244ms/step - loss: 2.8801e-05 - val_loss: 0.0044\n",
            "Epoch 60/150\n",
            "21/21 [==============================] - 5s 242ms/step - loss: 2.5892e-05 - val_loss: 0.0034\n",
            "Epoch 61/150\n",
            "21/21 [==============================] - 5s 240ms/step - loss: 2.9815e-05 - val_loss: 0.0042\n",
            "Epoch 62/150\n",
            "21/21 [==============================] - 5s 242ms/step - loss: 2.5886e-05 - val_loss: 0.0034\n",
            "Epoch 63/150\n",
            "21/21 [==============================] - 5s 238ms/step - loss: 2.8434e-05 - val_loss: 0.0032\n",
            "Epoch 64/150\n",
            "21/21 [==============================] - 5s 247ms/step - loss: 2.5515e-05 - val_loss: 0.0031\n",
            "Epoch 65/150\n",
            "21/21 [==============================] - 5s 245ms/step - loss: 2.7926e-05 - val_loss: 0.0041\n",
            "Epoch 66/150\n",
            "21/21 [==============================] - 5s 241ms/step - loss: 2.9233e-05 - val_loss: 0.0032\n",
            "Epoch 67/150\n",
            "21/21 [==============================] - 5s 237ms/step - loss: 2.7734e-05 - val_loss: 0.0033\n",
            "Epoch 68/150\n",
            "21/21 [==============================] - 5s 238ms/step - loss: 2.8329e-05 - val_loss: 0.0032\n",
            "Epoch 69/150\n",
            "21/21 [==============================] - 5s 240ms/step - loss: 2.7692e-05 - val_loss: 0.0033\n",
            "Epoch 70/150\n",
            "21/21 [==============================] - 5s 237ms/step - loss: 2.7654e-05 - val_loss: 0.0033\n",
            "Epoch 71/150\n",
            "21/21 [==============================] - 5s 245ms/step - loss: 2.7962e-05 - val_loss: 0.0032\n",
            "Epoch 72/150\n",
            "21/21 [==============================] - 5s 239ms/step - loss: 2.9443e-05 - val_loss: 0.0033\n",
            "Epoch 73/150\n",
            "21/21 [==============================] - 5s 239ms/step - loss: 3.1185e-05 - val_loss: 0.0028\n",
            "Epoch 74/150\n",
            "21/21 [==============================] - 5s 242ms/step - loss: 2.8124e-05 - val_loss: 0.0038\n",
            "Epoch 75/150\n",
            "21/21 [==============================] - 5s 240ms/step - loss: 2.5729e-05 - val_loss: 0.0043\n",
            "Epoch 76/150\n",
            "21/21 [==============================] - 5s 245ms/step - loss: 2.6370e-05 - val_loss: 0.0033\n",
            "Epoch 77/150\n",
            "21/21 [==============================] - 5s 243ms/step - loss: 2.7450e-05 - val_loss: 0.0037\n",
            "Epoch 78/150\n",
            "21/21 [==============================] - 5s 242ms/step - loss: 2.7018e-05 - val_loss: 0.0034\n",
            "Epoch 79/150\n",
            "21/21 [==============================] - 5s 241ms/step - loss: 3.1105e-05 - val_loss: 0.0051\n",
            "Epoch 80/150\n",
            "21/21 [==============================] - 5s 234ms/step - loss: 2.8903e-05 - val_loss: 0.0035\n",
            "Epoch 81/150\n",
            "21/21 [==============================] - 5s 235ms/step - loss: 3.0165e-05 - val_loss: 0.0040\n",
            "Epoch 82/150\n",
            "21/21 [==============================] - 5s 234ms/step - loss: 2.7478e-05 - val_loss: 0.0030\n",
            "Epoch 83/150\n",
            "21/21 [==============================] - 5s 243ms/step - loss: 2.8240e-05 - val_loss: 0.0035\n",
            "Epoch 84/150\n",
            "21/21 [==============================] - 5s 239ms/step - loss: 2.7478e-05 - val_loss: 0.0040\n",
            "Epoch 85/150\n",
            "21/21 [==============================] - 5s 246ms/step - loss: 2.7018e-05 - val_loss: 0.0032\n",
            "Epoch 86/150\n",
            "21/21 [==============================] - 5s 235ms/step - loss: 2.9128e-05 - val_loss: 0.0038\n",
            "Epoch 87/150\n",
            "21/21 [==============================] - 5s 246ms/step - loss: 2.8807e-05 - val_loss: 0.0038\n",
            "Epoch 88/150\n",
            "21/21 [==============================] - 5s 250ms/step - loss: 2.7783e-05 - val_loss: 0.0039\n",
            "Epoch 89/150\n",
            "21/21 [==============================] - 5s 244ms/step - loss: 2.6801e-05 - val_loss: 0.0019\n",
            "Epoch 90/150\n",
            "21/21 [==============================] - 5s 240ms/step - loss: 2.8309e-05 - val_loss: 0.0041\n",
            "Epoch 91/150\n",
            "21/21 [==============================] - 5s 239ms/step - loss: 2.8593e-05 - val_loss: 0.0035\n",
            "Epoch 92/150\n",
            "21/21 [==============================] - 5s 237ms/step - loss: 2.5252e-05 - val_loss: 0.0051\n",
            "Epoch 93/150\n",
            "21/21 [==============================] - 5s 241ms/step - loss: 3.7604e-05 - val_loss: 0.0041\n",
            "Epoch 94/150\n",
            "21/21 [==============================] - 5s 240ms/step - loss: 3.0472e-05 - val_loss: 0.0033\n",
            "Epoch 95/150\n",
            "21/21 [==============================] - 5s 239ms/step - loss: 2.5415e-05 - val_loss: 0.0047\n",
            "Epoch 96/150\n",
            "21/21 [==============================] - 5s 237ms/step - loss: 2.7454e-05 - val_loss: 0.0047\n",
            "Epoch 97/150\n",
            "21/21 [==============================] - 5s 241ms/step - loss: 2.7668e-05 - val_loss: 0.0046\n",
            "Epoch 98/150\n",
            "21/21 [==============================] - 5s 241ms/step - loss: 2.5919e-05 - val_loss: 0.0025\n",
            "Epoch 99/150\n",
            "21/21 [==============================] - 5s 239ms/step - loss: 2.9502e-05 - val_loss: 0.0043\n",
            "Epoch 100/150\n",
            "21/21 [==============================] - 5s 244ms/step - loss: 2.9209e-05 - val_loss: 0.0041\n",
            "Epoch 101/150\n",
            "21/21 [==============================] - 5s 242ms/step - loss: 2.6332e-05 - val_loss: 0.0039\n",
            "Epoch 102/150\n",
            "21/21 [==============================] - 5s 238ms/step - loss: 2.8480e-05 - val_loss: 0.0040\n",
            "Epoch 103/150\n",
            "21/21 [==============================] - 5s 241ms/step - loss: 2.6438e-05 - val_loss: 0.0035\n",
            "Epoch 104/150\n",
            "21/21 [==============================] - 5s 246ms/step - loss: 2.6438e-05 - val_loss: 0.0043\n",
            "Epoch 105/150\n",
            "21/21 [==============================] - 5s 244ms/step - loss: 2.6697e-05 - val_loss: 0.0039\n",
            "Epoch 106/150\n",
            "21/21 [==============================] - 5s 246ms/step - loss: 2.7666e-05 - val_loss: 0.0044\n",
            "Epoch 107/150\n",
            "21/21 [==============================] - 5s 246ms/step - loss: 2.7142e-05 - val_loss: 0.0039\n",
            "Epoch 108/150\n",
            "21/21 [==============================] - 5s 245ms/step - loss: 2.6623e-05 - val_loss: 0.0028\n",
            "Epoch 109/150\n",
            "21/21 [==============================] - 5s 252ms/step - loss: 2.6513e-05 - val_loss: 0.0056\n",
            "Epoch 110/150\n",
            "21/21 [==============================] - 5s 248ms/step - loss: 2.9401e-05 - val_loss: 0.0045\n",
            "Epoch 111/150\n",
            "21/21 [==============================] - 5s 255ms/step - loss: 2.8548e-05 - val_loss: 0.0035\n",
            "Epoch 112/150\n",
            "21/21 [==============================] - 5s 243ms/step - loss: 2.5131e-05 - val_loss: 0.0050\n",
            "Epoch 113/150\n",
            "21/21 [==============================] - 5s 246ms/step - loss: 2.7380e-05 - val_loss: 0.0033\n",
            "Epoch 114/150\n",
            "21/21 [==============================] - 5s 243ms/step - loss: 3.0927e-05 - val_loss: 0.0051\n",
            "Epoch 115/150\n",
            "21/21 [==============================] - 5s 243ms/step - loss: 2.7643e-05 - val_loss: 0.0035\n",
            "Epoch 116/150\n",
            "21/21 [==============================] - 5s 238ms/step - loss: 2.5925e-05 - val_loss: 0.0037\n",
            "Epoch 117/150\n",
            "21/21 [==============================] - 5s 235ms/step - loss: 2.7515e-05 - val_loss: 0.0040\n",
            "Epoch 118/150\n",
            "21/21 [==============================] - 5s 242ms/step - loss: 2.9250e-05 - val_loss: 0.0043\n",
            "Epoch 119/150\n",
            "21/21 [==============================] - 5s 250ms/step - loss: 3.0326e-05 - val_loss: 0.0039\n",
            "Epoch 120/150\n",
            "21/21 [==============================] - 5s 243ms/step - loss: 3.0603e-05 - val_loss: 0.0044\n",
            "Epoch 121/150\n",
            "21/21 [==============================] - 5s 250ms/step - loss: 2.7293e-05 - val_loss: 0.0035\n",
            "Epoch 122/150\n",
            "21/21 [==============================] - 5s 243ms/step - loss: 2.6743e-05 - val_loss: 0.0038\n",
            "Epoch 123/150\n",
            "21/21 [==============================] - 5s 252ms/step - loss: 2.6844e-05 - val_loss: 0.0043\n",
            "Epoch 124/150\n",
            "21/21 [==============================] - 5s 248ms/step - loss: 2.7844e-05 - val_loss: 0.0027\n",
            "Epoch 125/150\n",
            "21/21 [==============================] - 5s 248ms/step - loss: 2.7985e-05 - val_loss: 0.0048\n",
            "Epoch 126/150\n",
            "21/21 [==============================] - 5s 245ms/step - loss: 2.8948e-05 - val_loss: 0.0045\n",
            "Epoch 127/150\n",
            "21/21 [==============================] - 5s 237ms/step - loss: 2.6137e-05 - val_loss: 0.0031\n",
            "Epoch 128/150\n",
            "21/21 [==============================] - 5s 233ms/step - loss: 2.5793e-05 - val_loss: 0.0041\n",
            "Epoch 129/150\n",
            "21/21 [==============================] - 5s 235ms/step - loss: 2.8751e-05 - val_loss: 0.0047\n",
            "Epoch 130/150\n",
            "21/21 [==============================] - 5s 237ms/step - loss: 2.8304e-05 - val_loss: 0.0035\n",
            "Epoch 131/150\n",
            "21/21 [==============================] - 5s 248ms/step - loss: 2.6269e-05 - val_loss: 0.0037\n",
            "Epoch 132/150\n",
            "21/21 [==============================] - 5s 239ms/step - loss: 2.6927e-05 - val_loss: 0.0035\n",
            "Epoch 133/150\n",
            "21/21 [==============================] - 5s 238ms/step - loss: 2.5857e-05 - val_loss: 0.0048\n",
            "Epoch 134/150\n",
            "21/21 [==============================] - 5s 233ms/step - loss: 2.9771e-05 - val_loss: 0.0044\n",
            "Epoch 135/150\n",
            "21/21 [==============================] - 5s 245ms/step - loss: 2.5845e-05 - val_loss: 0.0044\n",
            "Epoch 136/150\n",
            "21/21 [==============================] - 5s 234ms/step - loss: 2.5740e-05 - val_loss: 0.0032\n",
            "Epoch 137/150\n",
            "21/21 [==============================] - 5s 232ms/step - loss: 2.6914e-05 - val_loss: 0.0034\n",
            "Epoch 138/150\n",
            "21/21 [==============================] - 5s 229ms/step - loss: 2.6605e-05 - val_loss: 0.0038\n",
            "Epoch 139/150\n",
            "21/21 [==============================] - 5s 233ms/step - loss: 2.6357e-05 - val_loss: 0.0030\n",
            "Epoch 140/150\n",
            "21/21 [==============================] - 5s 235ms/step - loss: 2.8934e-05 - val_loss: 0.0051\n",
            "Epoch 141/150\n",
            "21/21 [==============================] - 5s 230ms/step - loss: 2.6551e-05 - val_loss: 0.0036\n",
            "Epoch 142/150\n",
            "21/21 [==============================] - 5s 228ms/step - loss: 2.6224e-05 - val_loss: 0.0029\n",
            "Epoch 143/150\n",
            "21/21 [==============================] - 5s 230ms/step - loss: 3.1399e-05 - val_loss: 0.0053\n",
            "Epoch 144/150\n",
            "21/21 [==============================] - 5s 230ms/step - loss: 2.7380e-05 - val_loss: 0.0040\n",
            "Epoch 145/150\n",
            "21/21 [==============================] - 5s 232ms/step - loss: 2.8844e-05 - val_loss: 0.0039\n",
            "Epoch 146/150\n",
            "21/21 [==============================] - 5s 235ms/step - loss: 2.8174e-05 - val_loss: 0.0048\n",
            "Epoch 147/150\n",
            "21/21 [==============================] - 5s 239ms/step - loss: 3.0989e-05 - val_loss: 0.0025\n",
            "Epoch 148/150\n",
            "21/21 [==============================] - 5s 237ms/step - loss: 2.9350e-05 - val_loss: 0.0032\n",
            "Epoch 149/150\n",
            "21/21 [==============================] - 5s 236ms/step - loss: 2.5560e-05 - val_loss: 0.0046\n",
            "Epoch 150/150\n",
            "21/21 [==============================] - 5s 235ms/step - loss: 2.6767e-05 - val_loss: 0.0033\n"
          ]
        },
        {
          "output_type": "execute_result",
          "data": {
            "text/plain": [
              "<keras.callbacks.History at 0x7f77d7563e10>"
            ]
          },
          "metadata": {},
          "execution_count": 218
        }
      ],
      "source": [
        "model.fit(X_train,y_train,validation_data=(X_test,ytest),epochs=150,batch_size=64,verbose=1)"
      ]
    },
    {
      "cell_type": "code",
      "execution_count": 219,
      "metadata": {
        "id": "pOpgKn-TQR0_"
      },
      "outputs": [],
      "source": [
        "import tensorflow as tf"
      ]
    },
    {
      "cell_type": "code",
      "execution_count": 220,
      "metadata": {
        "colab": {
          "base_uri": "https://localhost:8080/",
          "height": 35
        },
        "id": "cQ3TSzgYQR0_",
        "outputId": "63c3c230-3c89-4662-8d0a-95d57ce3e2a6"
      },
      "outputs": [
        {
          "output_type": "execute_result",
          "data": {
            "application/vnd.google.colaboratory.intrinsic+json": {
              "type": "string"
            },
            "text/plain": [
              "'2.7.0'"
            ]
          },
          "metadata": {},
          "execution_count": 220
        }
      ],
      "source": [
        "tf.__version__"
      ]
    },
    {
      "cell_type": "code",
      "execution_count": 221,
      "metadata": {
        "id": "XCuJXbwMQR0_"
      },
      "outputs": [],
      "source": [
        "### Lets Do the prediction and check performance metrics\n",
        "train_predict=model.predict(X_train)\n",
        "test_predict=model.predict(X_test)"
      ]
    },
    {
      "cell_type": "code",
      "execution_count": 222,
      "metadata": {
        "id": "blIqn_tXQR0_"
      },
      "outputs": [],
      "source": [
        "##Transformback to original form\n",
        "train_predict=scaler.inverse_transform(train_predict)\n",
        "test_predict=scaler.inverse_transform(test_predict)"
      ]
    },
    {
      "cell_type": "code",
      "execution_count": 223,
      "metadata": {
        "colab": {
          "base_uri": "https://localhost:8080/"
        },
        "id": "GHvdIZUnQR1A",
        "outputId": "d1990cac-60e9-4e1c-ca63-51eefb92dbdb"
      },
      "outputs": [
        {
          "output_type": "execute_result",
          "data": {
            "text/plain": [
              "6493.620151057447"
            ]
          },
          "metadata": {},
          "execution_count": 223
        }
      ],
      "source": [
        "### Calculate RMSE performance metrics\n",
        "import math\n",
        "from sklearn.metrics import mean_squared_error\n",
        "math.sqrt(mean_squared_error(y_train,train_predict))"
      ]
    },
    {
      "cell_type": "code",
      "execution_count": 224,
      "metadata": {
        "colab": {
          "base_uri": "https://localhost:8080/"
        },
        "id": "luFCu10dQR1A",
        "outputId": "41642a87-bb52-4f38-ab71-b8cc8f61ad64"
      },
      "outputs": [
        {
          "output_type": "execute_result",
          "data": {
            "text/plain": [
              "33546.6697070599"
            ]
          },
          "metadata": {},
          "execution_count": 224
        }
      ],
      "source": [
        "### Test Data RMSE\n",
        "math.sqrt(mean_squared_error(ytest,test_predict))"
      ]
    },
    {
      "cell_type": "code",
      "execution_count": 225,
      "metadata": {
        "colab": {
          "base_uri": "https://localhost:8080/",
          "height": 267
        },
        "id": "IXcz9wgdQR1A",
        "outputId": "138c6179-d48a-4ab8-e243-2e8ac95f6786"
      },
      "outputs": [
        {
          "output_type": "display_data",
          "data": {
            "image/png": "[encoded data removed]",
            "text/plain": [
              "<Figure size 432x288 with 1 Axes>"
            ]
          },
          "metadata": {
            "needs_background": "light"
          }
        }
      ],
      "source": [
        "### Plotting \n",
        "# shift train predictions for plotting\n",
        "look_back=100\n",
        "trainPredictPlot = numpy.empty_like(df1)\n",
        "trainPredictPlot[:, :] = np.nan\n",
        "trainPredictPlot[look_back:len(train_predict)+look_back, :] = train_predict\n",
        "# shift test predictions for plotting\n",
        "testPredictPlot = numpy.empty_like(df1)\n",
        "testPredictPlot[:, :] = numpy.nan\n",
        "testPredictPlot[len(train_predict)+(look_back*2)+1:len(df1)-1, :] = test_predict\n",
        "# plot baseline and predictions\n",
        "plt.plot(scaler.inverse_transform(df1))\n",
        "plt.plot(trainPredictPlot)\n",
        "plt.plot(testPredictPlot)\n",
        "plt.show()"
      ]
    },
    {
      "cell_type": "code",
      "execution_count": 226,
      "metadata": {
        "colab": {
          "base_uri": "https://localhost:8080/"
        },
        "id": "s9IgMJG3QR1B",
        "outputId": "a697cd26-d095-4431-9225-f7e1a5b70a03"
      },
      "outputs": [
        {
          "output_type": "execute_result",
          "data": {
            "text/plain": [
              "768"
            ]
          },
          "metadata": {},
          "execution_count": 226
        }
      ],
      "source": [
        "len(test_data)"
      ]
    },
    {
      "cell_type": "code",
      "execution_count": 270,
      "metadata": {
        "colab": {
          "base_uri": "https://localhost:8080/"
        },
        "id": "tnOmcO5YQR1B",
        "outputId": "b2524a36-9875-4fd2-9362-4719ce054718"
      },
      "outputs": [
        {
          "output_type": "execute_result",
          "data": {
            "text/plain": [
              "(1, 100)"
            ]
          },
          "metadata": {},
          "execution_count": 270
        }
      ],
      "source": [
        "x_input=test_data[668:].reshape(1,-1)\n",
        "x_input.shape\n"
      ]
    },
    {
      "cell_type": "code",
      "execution_count": 271,
      "metadata": {
        "id": "R40cuDVsQR1C"
      },
      "outputs": [],
      "source": [
        "temp_input=list(x_input)\n",
        "temp_input=temp_input[0].tolist()"
      ]
    },
    {
      "cell_type": "code",
      "execution_count": 272,
      "metadata": {
        "colab": {
          "base_uri": "https://localhost:8080/"
        },
        "id": "G4nVB7w2QR1C",
        "outputId": "cfc901c4-9773-481f-e9a9-0fa1fb92bad0"
      },
      "outputs": [
        {
          "output_type": "execute_result",
          "data": {
            "text/plain": [
              "[0.6320512007641813,\n",
              " 0.6302185865718853,\n",
              " 0.6375389293270218,\n",
              " 0.6230631488794044,\n",
              " 0.6051889990891297,\n",
              " 0.6130729369577955,\n",
              " 0.646204611301083,\n",
              " 0.7105779167538119,\n",
              " 0.7045446123036865,\n",
              " 0.7118131642898995,\n",
              " 0.7253982133278892,\n",
              " 0.761139595844046,\n",
              " 0.8183790866847156,\n",
              " 0.7952331485067357,\n",
              " 0.7976417387810595,\n",
              " 0.8125277183608054,\n",
              " 0.8096015691938083,\n",
              " 0.8499752316889838,\n",
              " 0.8284919456410609,\n",
              " 0.8487298701239685,\n",
              " 0.8475457739758019,\n",
              " 0.9111211761319394,\n",
              " 0.9006785652028838,\n",
              " 0.9105210194008378,\n",
              " 0.9175514268584509,\n",
              " 0.9508227212069549,\n",
              " 0.9765783675578042,\n",
              " 0.92029081539101,\n",
              " 0.8977037640937777,\n",
              " 0.9081401554920443,\n",
              " 0.9012537856433482,\n",
              " 0.9326363736577323,\n",
              " 0.8928159597706781,\n",
              " 0.8648198832806554,\n",
              " 0.8966602179609117,\n",
              " 0.9205555818767749,\n",
              " 0.915509150159529,\n",
              " 0.9070291825343808,\n",
              " 0.9023485412720951,\n",
              " 0.9354127306826253,\n",
              " 0.9315980589078506,\n",
              " 0.9090123445252248,\n",
              " 0.9041530803320589,\n",
              " 0.9101320945823292,\n",
              " 0.936909489602222,\n",
              " 1.0,\n",
              " 0.991146162339174,\n",
              " 0.9617335997055719,\n",
              " 0.9610599710022849,\n",
              " 0.9492446432109353,\n",
              " 0.953910927223994,\n",
              " 0.9687513355804857,\n",
              " 0.9403451180811747,\n",
              " 0.889801981367388,\n",
              " 0.8928787364557732,\n",
              " 0.84190034805866,\n",
              " 0.8594211464853133,\n",
              " 0.8828967203903231,\n",
              " 0.8685115592538918,\n",
              " 0.832185714170467,\n",
              " 0.8512294284762804,\n",
              " 0.8320538249940467,\n",
              " 0.8468487202650047,\n",
              " 0.7917181191538899,\n",
              " 0.8102488665690115,\n",
              " 0.8464585166547298,\n",
              " 0.854763407080335,\n",
              " 0.8428421145807675,\n",
              " 0.8461813110925067,\n",
              " 0.834991076337776,\n",
              " 0.7921419199085625,\n",
              " 0.7267047240194316,\n",
              " 0.7292067818026748,\n",
              " 0.7472682735004305,\n",
              " 0.7490161391752881,\n",
              " 0.7461101599135456,\n",
              " 0.7039588128366926,\n",
              " 0.6975778534332928,\n",
              " 0.7291124424065116,\n",
              " 0.7400618588183099,\n",
              " 0.6900509870132254,\n",
              " 0.6881932040240512,\n",
              " 0.7221813732218051,\n",
              " 0.703859183904944,\n",
              " 0.6820849744265732,\n",
              " 0.6917071289685318,\n",
              " 0.689597657965934,\n",
              " 0.6921758615505755,\n",
              " 0.7227749616553159,\n",
              " 0.7181902873477615,\n",
              " 0.7502728354083964,\n",
              " 0.7508331754494308,\n",
              " 0.744995059981263,\n",
              " 0.7506444966273437,\n",
              " 0.7481282559633937,\n",
              " 0.7027197870779074,\n",
              " 0.6856944594510235,\n",
              " 0.6966079536411327,\n",
              " 0.6836370117235904,\n",
              " 0.7041774268261604]"
            ]
          },
          "metadata": {},
          "execution_count": 272
        }
      ],
      "source": [
        "temp_input"
      ]
    },
    {
      "cell_type": "code",
      "execution_count": 276,
      "metadata": {
        "colab": {
          "base_uri": "https://localhost:8080/"
        },
        "id": "LGcZbMNtQR1C",
        "outputId": "2930bb56-0af5-4e08-af1a-36a6592504df"
      },
      "outputs": [
        {
          "output_type": "stream",
          "name": "stdout",
          "text": [
            "0 day input [0.95391093 0.96875134 0.94034512 0.88980198 0.89287874 0.84190035\n",
            " 0.85942115 0.88289672 0.86851156 0.83218571 0.85122943 0.83205382\n",
            " 0.84684872 0.79171812 0.81024887 0.84645852 0.85476341 0.84284211\n",
            " 0.84618131 0.83499108 0.79214192 0.72670472 0.72920678 0.74726827\n",
            " 0.74901614 0.74611016 0.70395881 0.69757785 0.72911244 0.74006186\n",
            " 0.69005099 0.6881932  0.72218137 0.70385918 0.68208497 0.69170713\n",
            " 0.68959766 0.69217586 0.72277496 0.71819029 0.75027284 0.75083318\n",
            " 0.74499506 0.7506445  0.74812826 0.70271979 0.68569446 0.69660795\n",
            " 0.68363701 0.70417743 0.66433406 0.57316869 0.51136428 0.48381814\n",
            " 0.46571469 0.44586971 0.42416576 0.40286517 0.38330445 0.3657921\n",
            " 0.35015863 0.33611789 0.32341012 0.31183389 0.30123854 0.29151049\n",
            " 0.28256005 0.27431366 0.26670903 0.2596921  0.2532157  0.24723791\n",
            " 0.24172148 0.23663296 0.23194185 0.22762026 0.22364233 0.21998401\n",
            " 0.21662274 0.21353729 0.21070766 0.2081151  0.20574194 0.20357157\n",
            " 0.20158854 0.19977827 0.19812727 0.19662289 0.19525346 0.19400816\n",
            " 0.19287686 0.19185045 0.19092029 0.19007847 0.18931779 0.18863155\n",
            " 0.18801348 0.18745801 0.18695985 0.18651426]\n",
            "0 day output [[0.18611673]]\n",
            "1 day input [0.96875134 0.94034512 0.88980198 0.89287874 0.84190035 0.85942115\n",
            " 0.88289672 0.86851156 0.83218571 0.85122943 0.83205382 0.84684872\n",
            " 0.79171812 0.81024887 0.84645852 0.85476341 0.84284211 0.84618131\n",
            " 0.83499108 0.79214192 0.72670472 0.72920678 0.74726827 0.74901614\n",
            " 0.74611016 0.70395881 0.69757785 0.72911244 0.74006186 0.69005099\n",
            " 0.6881932  0.72218137 0.70385918 0.68208497 0.69170713 0.68959766\n",
            " 0.69217586 0.72277496 0.71819029 0.75027284 0.75083318 0.74499506\n",
            " 0.7506445  0.74812826 0.70271979 0.68569446 0.69660795 0.68363701\n",
            " 0.70417743 0.66433406 0.57316869 0.51136428 0.48381814 0.46571469\n",
            " 0.44586971 0.42416576 0.40286517 0.38330445 0.3657921  0.35015863\n",
            " 0.33611789 0.32341012 0.31183389 0.30123854 0.29151049 0.28256005\n",
            " 0.27431366 0.26670903 0.2596921  0.2532157  0.24723791 0.24172148\n",
            " 0.23663296 0.23194185 0.22762026 0.22364233 0.21998401 0.21662274\n",
            " 0.21353729 0.21070766 0.2081151  0.20574194 0.20357157 0.20158854\n",
            " 0.19977827 0.19812727 0.19662289 0.19525346 0.19400816 0.19287686\n",
            " 0.19185045 0.19092029 0.19007847 0.18931779 0.18863155 0.18801348\n",
            " 0.18745801 0.18695985 0.18651426 0.18611673]\n",
            "1 day output [[0.18576327]]\n",
            "2 day input [0.94034512 0.88980198 0.89287874 0.84190035 0.85942115 0.88289672\n",
            " 0.86851156 0.83218571 0.85122943 0.83205382 0.84684872 0.79171812\n",
            " 0.81024887 0.84645852 0.85476341 0.84284211 0.84618131 0.83499108\n",
            " 0.79214192 0.72670472 0.72920678 0.74726827 0.74901614 0.74611016\n",
            " 0.70395881 0.69757785 0.72911244 0.74006186 0.69005099 0.6881932\n",
            " 0.72218137 0.70385918 0.68208497 0.69170713 0.68959766 0.69217586\n",
            " 0.72277496 0.71819029 0.75027284 0.75083318 0.74499506 0.7506445\n",
            " 0.74812826 0.70271979 0.68569446 0.69660795 0.68363701 0.70417743\n",
            " 0.66433406 0.57316869 0.51136428 0.48381814 0.46571469 0.44586971\n",
            " 0.42416576 0.40286517 0.38330445 0.3657921  0.35015863 0.33611789\n",
            " 0.32341012 0.31183389 0.30123854 0.29151049 0.28256005 0.27431366\n",
            " 0.26670903 0.2596921  0.2532157  0.24723791 0.24172148 0.23663296\n",
            " 0.23194185 0.22762026 0.22364233 0.21998401 0.21662274 0.21353729\n",
            " 0.21070766 0.2081151  0.20574194 0.20357157 0.20158854 0.19977827\n",
            " 0.19812727 0.19662289 0.19525346 0.19400816 0.19287686 0.19185045\n",
            " 0.19092029 0.19007847 0.18931779 0.18863155 0.18801348 0.18745801\n",
            " 0.18695985 0.18651426 0.18611673 0.18576327]\n",
            "2 day output [[0.18545003]]\n",
            "3 day input [0.88980198 0.89287874 0.84190035 0.85942115 0.88289672 0.86851156\n",
            " 0.83218571 0.85122943 0.83205382 0.84684872 0.79171812 0.81024887\n",
            " 0.84645852 0.85476341 0.84284211 0.84618131 0.83499108 0.79214192\n",
            " 0.72670472 0.72920678 0.74726827 0.74901614 0.74611016 0.70395881\n",
            " 0.69757785 0.72911244 0.74006186 0.69005099 0.6881932  0.72218137\n",
            " 0.70385918 0.68208497 0.69170713 0.68959766 0.69217586 0.72277496\n",
            " 0.71819029 0.75027284 0.75083318 0.74499506 0.7506445  0.74812826\n",
            " 0.70271979 0.68569446 0.69660795 0.68363701 0.70417743 0.66433406\n",
            " 0.57316869 0.51136428 0.48381814 0.46571469 0.44586971 0.42416576\n",
            " 0.40286517 0.38330445 0.3657921  0.35015863 0.33611789 0.32341012\n",
            " 0.31183389 0.30123854 0.29151049 0.28256005 0.27431366 0.26670903\n",
            " 0.2596921  0.2532157  0.24723791 0.24172148 0.23663296 0.23194185\n",
            " 0.22762026 0.22364233 0.21998401 0.21662274 0.21353729 0.21070766\n",
            " 0.2081151  0.20574194 0.20357157 0.20158854 0.19977827 0.19812727\n",
            " 0.19662289 0.19525346 0.19400816 0.19287686 0.19185045 0.19092029\n",
            " 0.19007847 0.18931779 0.18863155 0.18801348 0.18745801 0.18695985\n",
            " 0.18651426 0.18611673 0.18576327 0.18545003]\n",
            "3 day output [[0.1851736]]\n",
            "4 day input [0.89287874 0.84190035 0.85942115 0.88289672 0.86851156 0.83218571\n",
            " 0.85122943 0.83205382 0.84684872 0.79171812 0.81024887 0.84645852\n",
            " 0.85476341 0.84284211 0.84618131 0.83499108 0.79214192 0.72670472\n",
            " 0.72920678 0.74726827 0.74901614 0.74611016 0.70395881 0.69757785\n",
            " 0.72911244 0.74006186 0.69005099 0.6881932  0.72218137 0.70385918\n",
            " 0.68208497 0.69170713 0.68959766 0.69217586 0.72277496 0.71819029\n",
            " 0.75027284 0.75083318 0.74499506 0.7506445  0.74812826 0.70271979\n",
            " 0.68569446 0.69660795 0.68363701 0.70417743 0.66433406 0.57316869\n",
            " 0.51136428 0.48381814 0.46571469 0.44586971 0.42416576 0.40286517\n",
            " 0.38330445 0.3657921  0.35015863 0.33611789 0.32341012 0.31183389\n",
            " 0.30123854 0.29151049 0.28256005 0.27431366 0.26670903 0.2596921\n",
            " 0.2532157  0.24723791 0.24172148 0.23663296 0.23194185 0.22762026\n",
            " 0.22364233 0.21998401 0.21662274 0.21353729 0.21070766 0.2081151\n",
            " 0.20574194 0.20357157 0.20158854 0.19977827 0.19812727 0.19662289\n",
            " 0.19525346 0.19400816 0.19287686 0.19185045 0.19092029 0.19007847\n",
            " 0.18931779 0.18863155 0.18801348 0.18745801 0.18695985 0.18651426\n",
            " 0.18611673 0.18576327 0.18545003 0.1851736 ]\n",
            "4 day output [[0.1849308]]\n",
            "5 day input [0.84190035 0.85942115 0.88289672 0.86851156 0.83218571 0.85122943\n",
            " 0.83205382 0.84684872 0.79171812 0.81024887 0.84645852 0.85476341\n",
            " 0.84284211 0.84618131 0.83499108 0.79214192 0.72670472 0.72920678\n",
            " 0.74726827 0.74901614 0.74611016 0.70395881 0.69757785 0.72911244\n",
            " 0.74006186 0.69005099 0.6881932  0.72218137 0.70385918 0.68208497\n",
            " 0.69170713 0.68959766 0.69217586 0.72277496 0.71819029 0.75027284\n",
            " 0.75083318 0.74499506 0.7506445  0.74812826 0.70271979 0.68569446\n",
            " 0.69660795 0.68363701 0.70417743 0.66433406 0.57316869 0.51136428\n",
            " 0.48381814 0.46571469 0.44586971 0.42416576 0.40286517 0.38330445\n",
            " 0.3657921  0.35015863 0.33611789 0.32341012 0.31183389 0.30123854\n",
            " 0.29151049 0.28256005 0.27431366 0.26670903 0.2596921  0.2532157\n",
            " 0.24723791 0.24172148 0.23663296 0.23194185 0.22762026 0.22364233\n",
            " 0.21998401 0.21662274 0.21353729 0.21070766 0.2081151  0.20574194\n",
            " 0.20357157 0.20158854 0.19977827 0.19812727 0.19662289 0.19525346\n",
            " 0.19400816 0.19287686 0.19185045 0.19092029 0.19007847 0.18931779\n",
            " 0.18863155 0.18801348 0.18745801 0.18695985 0.18651426 0.18611673\n",
            " 0.18576327 0.18545003 0.1851736  0.1849308 ]\n",
            "5 day output [[0.18471874]]\n",
            "6 day input [0.85942115 0.88289672 0.86851156 0.83218571 0.85122943 0.83205382\n",
            " 0.84684872 0.79171812 0.81024887 0.84645852 0.85476341 0.84284211\n",
            " 0.84618131 0.83499108 0.79214192 0.72670472 0.72920678 0.74726827\n",
            " 0.74901614 0.74611016 0.70395881 0.69757785 0.72911244 0.74006186\n",
            " 0.69005099 0.6881932  0.72218137 0.70385918 0.68208497 0.69170713\n",
            " 0.68959766 0.69217586 0.72277496 0.71819029 0.75027284 0.75083318\n",
            " 0.74499506 0.7506445  0.74812826 0.70271979 0.68569446 0.69660795\n",
            " 0.68363701 0.70417743 0.66433406 0.57316869 0.51136428 0.48381814\n",
            " 0.46571469 0.44586971 0.42416576 0.40286517 0.38330445 0.3657921\n",
            " 0.35015863 0.33611789 0.32341012 0.31183389 0.30123854 0.29151049\n",
            " 0.28256005 0.27431366 0.26670903 0.2596921  0.2532157  0.24723791\n",
            " 0.24172148 0.23663296 0.23194185 0.22762026 0.22364233 0.21998401\n",
            " 0.21662274 0.21353729 0.21070766 0.2081151  0.20574194 0.20357157\n",
            " 0.20158854 0.19977827 0.19812727 0.19662289 0.19525346 0.19400816\n",
            " 0.19287686 0.19185045 0.19092029 0.19007847 0.18931779 0.18863155\n",
            " 0.18801348 0.18745801 0.18695985 0.18651426 0.18611673 0.18576327\n",
            " 0.18545003 0.1851736  0.1849308  0.18471874]\n",
            "6 day output [[0.18453462]]\n",
            "7 day input [0.88289672 0.86851156 0.83218571 0.85122943 0.83205382 0.84684872\n",
            " 0.79171812 0.81024887 0.84645852 0.85476341 0.84284211 0.84618131\n",
            " 0.83499108 0.79214192 0.72670472 0.72920678 0.74726827 0.74901614\n",
            " 0.74611016 0.70395881 0.69757785 0.72911244 0.74006186 0.69005099\n",
            " 0.6881932  0.72218137 0.70385918 0.68208497 0.69170713 0.68959766\n",
            " 0.69217586 0.72277496 0.71819029 0.75027284 0.75083318 0.74499506\n",
            " 0.7506445  0.74812826 0.70271979 0.68569446 0.69660795 0.68363701\n",
            " 0.70417743 0.66433406 0.57316869 0.51136428 0.48381814 0.46571469\n",
            " 0.44586971 0.42416576 0.40286517 0.38330445 0.3657921  0.35015863\n",
            " 0.33611789 0.32341012 0.31183389 0.30123854 0.29151049 0.28256005\n",
            " 0.27431366 0.26670903 0.2596921  0.2532157  0.24723791 0.24172148\n",
            " 0.23663296 0.23194185 0.22762026 0.22364233 0.21998401 0.21662274\n",
            " 0.21353729 0.21070766 0.2081151  0.20574194 0.20357157 0.20158854\n",
            " 0.19977827 0.19812727 0.19662289 0.19525346 0.19400816 0.19287686\n",
            " 0.19185045 0.19092029 0.19007847 0.18931779 0.18863155 0.18801348\n",
            " 0.18745801 0.18695985 0.18651426 0.18611673 0.18576327 0.18545003\n",
            " 0.1851736  0.1849308  0.18471874 0.18453462]\n",
            "7 day output [[0.18437602]]\n",
            "8 day input [0.86851156 0.83218571 0.85122943 0.83205382 0.84684872 0.79171812\n",
            " 0.81024887 0.84645852 0.85476341 0.84284211 0.84618131 0.83499108\n",
            " 0.79214192 0.72670472 0.72920678 0.74726827 0.74901614 0.74611016\n",
            " 0.70395881 0.69757785 0.72911244 0.74006186 0.69005099 0.6881932\n",
            " 0.72218137 0.70385918 0.68208497 0.69170713 0.68959766 0.69217586\n",
            " 0.72277496 0.71819029 0.75027284 0.75083318 0.74499506 0.7506445\n",
            " 0.74812826 0.70271979 0.68569446 0.69660795 0.68363701 0.70417743\n",
            " 0.66433406 0.57316869 0.51136428 0.48381814 0.46571469 0.44586971\n",
            " 0.42416576 0.40286517 0.38330445 0.3657921  0.35015863 0.33611789\n",
            " 0.32341012 0.31183389 0.30123854 0.29151049 0.28256005 0.27431366\n",
            " 0.26670903 0.2596921  0.2532157  0.24723791 0.24172148 0.23663296\n",
            " 0.23194185 0.22762026 0.22364233 0.21998401 0.21662274 0.21353729\n",
            " 0.21070766 0.2081151  0.20574194 0.20357157 0.20158854 0.19977827\n",
            " 0.19812727 0.19662289 0.19525346 0.19400816 0.19287686 0.19185045\n",
            " 0.19092029 0.19007847 0.18931779 0.18863155 0.18801348 0.18745801\n",
            " 0.18695985 0.18651426 0.18611673 0.18576327 0.18545003 0.1851736\n",
            " 0.1849308  0.18471874 0.18453462 0.18437602]\n",
            "8 day output [[0.18424068]]\n",
            "9 day input [0.83218571 0.85122943 0.83205382 0.84684872 0.79171812 0.81024887\n",
            " 0.84645852 0.85476341 0.84284211 0.84618131 0.83499108 0.79214192\n",
            " 0.72670472 0.72920678 0.74726827 0.74901614 0.74611016 0.70395881\n",
            " 0.69757785 0.72911244 0.74006186 0.69005099 0.6881932  0.72218137\n",
            " 0.70385918 0.68208497 0.69170713 0.68959766 0.69217586 0.72277496\n",
            " 0.71819029 0.75027284 0.75083318 0.74499506 0.7506445  0.74812826\n",
            " 0.70271979 0.68569446 0.69660795 0.68363701 0.70417743 0.66433406\n",
            " 0.57316869 0.51136428 0.48381814 0.46571469 0.44586971 0.42416576\n",
            " 0.40286517 0.38330445 0.3657921  0.35015863 0.33611789 0.32341012\n",
            " 0.31183389 0.30123854 0.29151049 0.28256005 0.27431366 0.26670903\n",
            " 0.2596921  0.2532157  0.24723791 0.24172148 0.23663296 0.23194185\n",
            " 0.22762026 0.22364233 0.21998401 0.21662274 0.21353729 0.21070766\n",
            " 0.2081151  0.20574194 0.20357157 0.20158854 0.19977827 0.19812727\n",
            " 0.19662289 0.19525346 0.19400816 0.19287686 0.19185045 0.19092029\n",
            " 0.19007847 0.18931779 0.18863155 0.18801348 0.18745801 0.18695985\n",
            " 0.18651426 0.18611673 0.18576327 0.18545003 0.1851736  0.1849308\n",
            " 0.18471874 0.18453462 0.18437602 0.18424068]\n",
            "9 day output [[0.18412648]]\n",
            "10 day input [0.85122943 0.83205382 0.84684872 0.79171812 0.81024887 0.84645852\n",
            " 0.85476341 0.84284211 0.84618131 0.83499108 0.79214192 0.72670472\n",
            " 0.72920678 0.74726827 0.74901614 0.74611016 0.70395881 0.69757785\n",
            " 0.72911244 0.74006186 0.69005099 0.6881932  0.72218137 0.70385918\n",
            " 0.68208497 0.69170713 0.68959766 0.69217586 0.72277496 0.71819029\n",
            " 0.75027284 0.75083318 0.74499506 0.7506445  0.74812826 0.70271979\n",
            " 0.68569446 0.69660795 0.68363701 0.70417743 0.66433406 0.57316869\n",
            " 0.51136428 0.48381814 0.46571469 0.44586971 0.42416576 0.40286517\n",
            " 0.38330445 0.3657921  0.35015863 0.33611789 0.32341012 0.31183389\n",
            " 0.30123854 0.29151049 0.28256005 0.27431366 0.26670903 0.2596921\n",
            " 0.2532157  0.24723791 0.24172148 0.23663296 0.23194185 0.22762026\n",
            " 0.22364233 0.21998401 0.21662274 0.21353729 0.21070766 0.2081151\n",
            " 0.20574194 0.20357157 0.20158854 0.19977827 0.19812727 0.19662289\n",
            " 0.19525346 0.19400816 0.19287686 0.19185045 0.19092029 0.19007847\n",
            " 0.18931779 0.18863155 0.18801348 0.18745801 0.18695985 0.18651426\n",
            " 0.18611673 0.18576327 0.18545003 0.1851736  0.1849308  0.18471874\n",
            " 0.18453462 0.18437602 0.18424068 0.18412648]\n",
            "10 day output [[0.18403141]]\n",
            "11 day input [0.83205382 0.84684872 0.79171812 0.81024887 0.84645852 0.85476341\n",
            " 0.84284211 0.84618131 0.83499108 0.79214192 0.72670472 0.72920678\n",
            " 0.74726827 0.74901614 0.74611016 0.70395881 0.69757785 0.72911244\n",
            " 0.74006186 0.69005099 0.6881932  0.72218137 0.70385918 0.68208497\n",
            " 0.69170713 0.68959766 0.69217586 0.72277496 0.71819029 0.75027284\n",
            " 0.75083318 0.74499506 0.7506445  0.74812826 0.70271979 0.68569446\n",
            " 0.69660795 0.68363701 0.70417743 0.66433406 0.57316869 0.51136428\n",
            " 0.48381814 0.46571469 0.44586971 0.42416576 0.40286517 0.38330445\n",
            " 0.3657921  0.35015863 0.33611789 0.32341012 0.31183389 0.30123854\n",
            " 0.29151049 0.28256005 0.27431366 0.26670903 0.2596921  0.2532157\n",
            " 0.24723791 0.24172148 0.23663296 0.23194185 0.22762026 0.22364233\n",
            " 0.21998401 0.21662274 0.21353729 0.21070766 0.2081151  0.20574194\n",
            " 0.20357157 0.20158854 0.19977827 0.19812727 0.19662289 0.19525346\n",
            " 0.19400816 0.19287686 0.19185045 0.19092029 0.19007847 0.18931779\n",
            " 0.18863155 0.18801348 0.18745801 0.18695985 0.18651426 0.18611673\n",
            " 0.18576327 0.18545003 0.1851736  0.1849308  0.18471874 0.18453462\n",
            " 0.18437602 0.18424068 0.18412648 0.18403141]\n",
            "11 day output [[0.18395379]]\n",
            "12 day input [0.84684872 0.79171812 0.81024887 0.84645852 0.85476341 0.84284211\n",
            " 0.84618131 0.83499108 0.79214192 0.72670472 0.72920678 0.74726827\n",
            " 0.74901614 0.74611016 0.70395881 0.69757785 0.72911244 0.74006186\n",
            " 0.69005099 0.6881932  0.72218137 0.70385918 0.68208497 0.69170713\n",
            " 0.68959766 0.69217586 0.72277496 0.71819029 0.75027284 0.75083318\n",
            " 0.74499506 0.7506445  0.74812826 0.70271979 0.68569446 0.69660795\n",
            " 0.68363701 0.70417743 0.66433406 0.57316869 0.51136428 0.48381814\n",
            " 0.46571469 0.44586971 0.42416576 0.40286517 0.38330445 0.3657921\n",
            " 0.35015863 0.33611789 0.32341012 0.31183389 0.30123854 0.29151049\n",
            " 0.28256005 0.27431366 0.26670903 0.2596921  0.2532157  0.24723791\n",
            " 0.24172148 0.23663296 0.23194185 0.22762026 0.22364233 0.21998401\n",
            " 0.21662274 0.21353729 0.21070766 0.2081151  0.20574194 0.20357157\n",
            " 0.20158854 0.19977827 0.19812727 0.19662289 0.19525346 0.19400816\n",
            " 0.19287686 0.19185045 0.19092029 0.19007847 0.18931779 0.18863155\n",
            " 0.18801348 0.18745801 0.18695985 0.18651426 0.18611673 0.18576327\n",
            " 0.18545003 0.1851736  0.1849308  0.18471874 0.18453462 0.18437602\n",
            " 0.18424068 0.18412648 0.18403141 0.18395379]\n",
            "12 day output [[0.18389188]]\n",
            "13 day input [0.79171812 0.81024887 0.84645852 0.85476341 0.84284211 0.84618131\n",
            " 0.83499108 0.79214192 0.72670472 0.72920678 0.74726827 0.74901614\n",
            " 0.74611016 0.70395881 0.69757785 0.72911244 0.74006186 0.69005099\n",
            " 0.6881932  0.72218137 0.70385918 0.68208497 0.69170713 0.68959766\n",
            " 0.69217586 0.72277496 0.71819029 0.75027284 0.75083318 0.74499506\n",
            " 0.7506445  0.74812826 0.70271979 0.68569446 0.69660795 0.68363701\n",
            " 0.70417743 0.66433406 0.57316869 0.51136428 0.48381814 0.46571469\n",
            " 0.44586971 0.42416576 0.40286517 0.38330445 0.3657921  0.35015863\n",
            " 0.33611789 0.32341012 0.31183389 0.30123854 0.29151049 0.28256005\n",
            " 0.27431366 0.26670903 0.2596921  0.2532157  0.24723791 0.24172148\n",
            " 0.23663296 0.23194185 0.22762026 0.22364233 0.21998401 0.21662274\n",
            " 0.21353729 0.21070766 0.2081151  0.20574194 0.20357157 0.20158854\n",
            " 0.19977827 0.19812727 0.19662289 0.19525346 0.19400816 0.19287686\n",
            " 0.19185045 0.19092029 0.19007847 0.18931779 0.18863155 0.18801348\n",
            " 0.18745801 0.18695985 0.18651426 0.18611673 0.18576327 0.18545003\n",
            " 0.1851736  0.1849308  0.18471874 0.18453462 0.18437602 0.18424068\n",
            " 0.18412648 0.18403141 0.18395379 0.18389188]\n",
            "13 day output [[0.18384424]]\n",
            "14 day input [0.81024887 0.84645852 0.85476341 0.84284211 0.84618131 0.83499108\n",
            " 0.79214192 0.72670472 0.72920678 0.74726827 0.74901614 0.74611016\n",
            " 0.70395881 0.69757785 0.72911244 0.74006186 0.69005099 0.6881932\n",
            " 0.72218137 0.70385918 0.68208497 0.69170713 0.68959766 0.69217586\n",
            " 0.72277496 0.71819029 0.75027284 0.75083318 0.74499506 0.7506445\n",
            " 0.74812826 0.70271979 0.68569446 0.69660795 0.68363701 0.70417743\n",
            " 0.66433406 0.57316869 0.51136428 0.48381814 0.46571469 0.44586971\n",
            " 0.42416576 0.40286517 0.38330445 0.3657921  0.35015863 0.33611789\n",
            " 0.32341012 0.31183389 0.30123854 0.29151049 0.28256005 0.27431366\n",
            " 0.26670903 0.2596921  0.2532157  0.24723791 0.24172148 0.23663296\n",
            " 0.23194185 0.22762026 0.22364233 0.21998401 0.21662274 0.21353729\n",
            " 0.21070766 0.2081151  0.20574194 0.20357157 0.20158854 0.19977827\n",
            " 0.19812727 0.19662289 0.19525346 0.19400816 0.19287686 0.19185045\n",
            " 0.19092029 0.19007847 0.18931779 0.18863155 0.18801348 0.18745801\n",
            " 0.18695985 0.18651426 0.18611673 0.18576327 0.18545003 0.1851736\n",
            " 0.1849308  0.18471874 0.18453462 0.18437602 0.18424068 0.18412648\n",
            " 0.18403141 0.18395379 0.18389188 0.18384424]\n",
            "14 day output [[0.1838095]]\n",
            "15 day input [0.84645852 0.85476341 0.84284211 0.84618131 0.83499108 0.79214192\n",
            " 0.72670472 0.72920678 0.74726827 0.74901614 0.74611016 0.70395881\n",
            " 0.69757785 0.72911244 0.74006186 0.69005099 0.6881932  0.72218137\n",
            " 0.70385918 0.68208497 0.69170713 0.68959766 0.69217586 0.72277496\n",
            " 0.71819029 0.75027284 0.75083318 0.74499506 0.7506445  0.74812826\n",
            " 0.70271979 0.68569446 0.69660795 0.68363701 0.70417743 0.66433406\n",
            " 0.57316869 0.51136428 0.48381814 0.46571469 0.44586971 0.42416576\n",
            " 0.40286517 0.38330445 0.3657921  0.35015863 0.33611789 0.32341012\n",
            " 0.31183389 0.30123854 0.29151049 0.28256005 0.27431366 0.26670903\n",
            " 0.2596921  0.2532157  0.24723791 0.24172148 0.23663296 0.23194185\n",
            " 0.22762026 0.22364233 0.21998401 0.21662274 0.21353729 0.21070766\n",
            " 0.2081151  0.20574194 0.20357157 0.20158854 0.19977827 0.19812727\n",
            " 0.19662289 0.19525346 0.19400816 0.19287686 0.19185045 0.19092029\n",
            " 0.19007847 0.18931779 0.18863155 0.18801348 0.18745801 0.18695985\n",
            " 0.18651426 0.18611673 0.18576327 0.18545003 0.1851736  0.1849308\n",
            " 0.18471874 0.18453462 0.18437602 0.18424068 0.18412648 0.18403141\n",
            " 0.18395379 0.18389188 0.18384424 0.1838095 ]\n",
            "15 day output [[0.18378638]]\n",
            "16 day input [0.85476341 0.84284211 0.84618131 0.83499108 0.79214192 0.72670472\n",
            " 0.72920678 0.74726827 0.74901614 0.74611016 0.70395881 0.69757785\n",
            " 0.72911244 0.74006186 0.69005099 0.6881932  0.72218137 0.70385918\n",
            " 0.68208497 0.69170713 0.68959766 0.69217586 0.72277496 0.71819029\n",
            " 0.75027284 0.75083318 0.74499506 0.7506445  0.74812826 0.70271979\n",
            " 0.68569446 0.69660795 0.68363701 0.70417743 0.66433406 0.57316869\n",
            " 0.51136428 0.48381814 0.46571469 0.44586971 0.42416576 0.40286517\n",
            " 0.38330445 0.3657921  0.35015863 0.33611789 0.32341012 0.31183389\n",
            " 0.30123854 0.29151049 0.28256005 0.27431366 0.26670903 0.2596921\n",
            " 0.2532157  0.24723791 0.24172148 0.23663296 0.23194185 0.22762026\n",
            " 0.22364233 0.21998401 0.21662274 0.21353729 0.21070766 0.2081151\n",
            " 0.20574194 0.20357157 0.20158854 0.19977827 0.19812727 0.19662289\n",
            " 0.19525346 0.19400816 0.19287686 0.19185045 0.19092029 0.19007847\n",
            " 0.18931779 0.18863155 0.18801348 0.18745801 0.18695985 0.18651426\n",
            " 0.18611673 0.18576327 0.18545003 0.1851736  0.1849308  0.18471874\n",
            " 0.18453462 0.18437602 0.18424068 0.18412648 0.18403141 0.18395379\n",
            " 0.18389188 0.18384424 0.1838095  0.18378638]\n",
            "16 day output [[0.18377368]]\n",
            "17 day input [0.84284211 0.84618131 0.83499108 0.79214192 0.72670472 0.72920678\n",
            " 0.74726827 0.74901614 0.74611016 0.70395881 0.69757785 0.72911244\n",
            " 0.74006186 0.69005099 0.6881932  0.72218137 0.70385918 0.68208497\n",
            " 0.69170713 0.68959766 0.69217586 0.72277496 0.71819029 0.75027284\n",
            " 0.75083318 0.74499506 0.7506445  0.74812826 0.70271979 0.68569446\n",
            " 0.69660795 0.68363701 0.70417743 0.66433406 0.57316869 0.51136428\n",
            " 0.48381814 0.46571469 0.44586971 0.42416576 0.40286517 0.38330445\n",
            " 0.3657921  0.35015863 0.33611789 0.32341012 0.31183389 0.30123854\n",
            " 0.29151049 0.28256005 0.27431366 0.26670903 0.2596921  0.2532157\n",
            " 0.24723791 0.24172148 0.23663296 0.23194185 0.22762026 0.22364233\n",
            " 0.21998401 0.21662274 0.21353729 0.21070766 0.2081151  0.20574194\n",
            " 0.20357157 0.20158854 0.19977827 0.19812727 0.19662289 0.19525346\n",
            " 0.19400816 0.19287686 0.19185045 0.19092029 0.19007847 0.18931779\n",
            " 0.18863155 0.18801348 0.18745801 0.18695985 0.18651426 0.18611673\n",
            " 0.18576327 0.18545003 0.1851736  0.1849308  0.18471874 0.18453462\n",
            " 0.18437602 0.18424068 0.18412648 0.18403141 0.18395379 0.18389188\n",
            " 0.18384424 0.1838095  0.18378638 0.18377368]\n",
            "17 day output [[0.18377031]]\n",
            "18 day input [0.84618131 0.83499108 0.79214192 0.72670472 0.72920678 0.74726827\n",
            " 0.74901614 0.74611016 0.70395881 0.69757785 0.72911244 0.74006186\n",
            " 0.69005099 0.6881932  0.72218137 0.70385918 0.68208497 0.69170713\n",
            " 0.68959766 0.69217586 0.72277496 0.71819029 0.75027284 0.75083318\n",
            " 0.74499506 0.7506445  0.74812826 0.70271979 0.68569446 0.69660795\n",
            " 0.68363701 0.70417743 0.66433406 0.57316869 0.51136428 0.48381814\n",
            " 0.46571469 0.44586971 0.42416576 0.40286517 0.38330445 0.3657921\n",
            " 0.35015863 0.33611789 0.32341012 0.31183389 0.30123854 0.29151049\n",
            " 0.28256005 0.27431366 0.26670903 0.2596921  0.2532157  0.24723791\n",
            " 0.24172148 0.23663296 0.23194185 0.22762026 0.22364233 0.21998401\n",
            " 0.21662274 0.21353729 0.21070766 0.2081151  0.20574194 0.20357157\n",
            " 0.20158854 0.19977827 0.19812727 0.19662289 0.19525346 0.19400816\n",
            " 0.19287686 0.19185045 0.19092029 0.19007847 0.18931779 0.18863155\n",
            " 0.18801348 0.18745801 0.18695985 0.18651426 0.18611673 0.18576327\n",
            " 0.18545003 0.1851736  0.1849308  0.18471874 0.18453462 0.18437602\n",
            " 0.18424068 0.18412648 0.18403141 0.18395379 0.18389188 0.18384424\n",
            " 0.1838095  0.18378638 0.18377368 0.18377031]\n",
            "18 day output [[0.18377532]]\n",
            "19 day input [0.83499108 0.79214192 0.72670472 0.72920678 0.74726827 0.74901614\n",
            " 0.74611016 0.70395881 0.69757785 0.72911244 0.74006186 0.69005099\n",
            " 0.6881932  0.72218137 0.70385918 0.68208497 0.69170713 0.68959766\n",
            " 0.69217586 0.72277496 0.71819029 0.75027284 0.75083318 0.74499506\n",
            " 0.7506445  0.74812826 0.70271979 0.68569446 0.69660795 0.68363701\n",
            " 0.70417743 0.66433406 0.57316869 0.51136428 0.48381814 0.46571469\n",
            " 0.44586971 0.42416576 0.40286517 0.38330445 0.3657921  0.35015863\n",
            " 0.33611789 0.32341012 0.31183389 0.30123854 0.29151049 0.28256005\n",
            " 0.27431366 0.26670903 0.2596921  0.2532157  0.24723791 0.24172148\n",
            " 0.23663296 0.23194185 0.22762026 0.22364233 0.21998401 0.21662274\n",
            " 0.21353729 0.21070766 0.2081151  0.20574194 0.20357157 0.20158854\n",
            " 0.19977827 0.19812727 0.19662289 0.19525346 0.19400816 0.19287686\n",
            " 0.19185045 0.19092029 0.19007847 0.18931779 0.18863155 0.18801348\n",
            " 0.18745801 0.18695985 0.18651426 0.18611673 0.18576327 0.18545003\n",
            " 0.1851736  0.1849308  0.18471874 0.18453462 0.18437602 0.18424068\n",
            " 0.18412648 0.18403141 0.18395379 0.18389188 0.18384424 0.1838095\n",
            " 0.18378638 0.18377368 0.18377031 0.18377532]\n",
            "19 day output [[0.18378787]]\n",
            "20 day input [0.79214192 0.72670472 0.72920678 0.74726827 0.74901614 0.74611016\n",
            " 0.70395881 0.69757785 0.72911244 0.74006186 0.69005099 0.6881932\n",
            " 0.72218137 0.70385918 0.68208497 0.69170713 0.68959766 0.69217586\n",
            " 0.72277496 0.71819029 0.75027284 0.75083318 0.74499506 0.7506445\n",
            " 0.74812826 0.70271979 0.68569446 0.69660795 0.68363701 0.70417743\n",
            " 0.66433406 0.57316869 0.51136428 0.48381814 0.46571469 0.44586971\n",
            " 0.42416576 0.40286517 0.38330445 0.3657921  0.35015863 0.33611789\n",
            " 0.32341012 0.31183389 0.30123854 0.29151049 0.28256005 0.27431366\n",
            " 0.26670903 0.2596921  0.2532157  0.24723791 0.24172148 0.23663296\n",
            " 0.23194185 0.22762026 0.22364233 0.21998401 0.21662274 0.21353729\n",
            " 0.21070766 0.2081151  0.20574194 0.20357157 0.20158854 0.19977827\n",
            " 0.19812727 0.19662289 0.19525346 0.19400816 0.19287686 0.19185045\n",
            " 0.19092029 0.19007847 0.18931779 0.18863155 0.18801348 0.18745801\n",
            " 0.18695985 0.18651426 0.18611673 0.18576327 0.18545003 0.1851736\n",
            " 0.1849308  0.18471874 0.18453462 0.18437602 0.18424068 0.18412648\n",
            " 0.18403141 0.18395379 0.18389188 0.18384424 0.1838095  0.18378638\n",
            " 0.18377368 0.18377031 0.18377532 0.18378787]\n",
            "20 day output [[0.18380703]]\n",
            "21 day input [0.72670472 0.72920678 0.74726827 0.74901614 0.74611016 0.70395881\n",
            " 0.69757785 0.72911244 0.74006186 0.69005099 0.6881932  0.72218137\n",
            " 0.70385918 0.68208497 0.69170713 0.68959766 0.69217586 0.72277496\n",
            " 0.71819029 0.75027284 0.75083318 0.74499506 0.7506445  0.74812826\n",
            " 0.70271979 0.68569446 0.69660795 0.68363701 0.70417743 0.66433406\n",
            " 0.57316869 0.51136428 0.48381814 0.46571469 0.44586971 0.42416576\n",
            " 0.40286517 0.38330445 0.3657921  0.35015863 0.33611789 0.32341012\n",
            " 0.31183389 0.30123854 0.29151049 0.28256005 0.27431366 0.26670903\n",
            " 0.2596921  0.2532157  0.24723791 0.24172148 0.23663296 0.23194185\n",
            " 0.22762026 0.22364233 0.21998401 0.21662274 0.21353729 0.21070766\n",
            " 0.2081151  0.20574194 0.20357157 0.20158854 0.19977827 0.19812727\n",
            " 0.19662289 0.19525346 0.19400816 0.19287686 0.19185045 0.19092029\n",
            " 0.19007847 0.18931779 0.18863155 0.18801348 0.18745801 0.18695985\n",
            " 0.18651426 0.18611673 0.18576327 0.18545003 0.1851736  0.1849308\n",
            " 0.18471874 0.18453462 0.18437602 0.18424068 0.18412648 0.18403141\n",
            " 0.18395379 0.18389188 0.18384424 0.1838095  0.18378638 0.18377368\n",
            " 0.18377031 0.18377532 0.18378787 0.18380703]\n",
            "21 day output [[0.18383214]]\n",
            "22 day input [0.72920678 0.74726827 0.74901614 0.74611016 0.70395881 0.69757785\n",
            " 0.72911244 0.74006186 0.69005099 0.6881932  0.72218137 0.70385918\n",
            " 0.68208497 0.69170713 0.68959766 0.69217586 0.72277496 0.71819029\n",
            " 0.75027284 0.75083318 0.74499506 0.7506445  0.74812826 0.70271979\n",
            " 0.68569446 0.69660795 0.68363701 0.70417743 0.66433406 0.57316869\n",
            " 0.51136428 0.48381814 0.46571469 0.44586971 0.42416576 0.40286517\n",
            " 0.38330445 0.3657921  0.35015863 0.33611789 0.32341012 0.31183389\n",
            " 0.30123854 0.29151049 0.28256005 0.27431366 0.26670903 0.2596921\n",
            " 0.2532157  0.24723791 0.24172148 0.23663296 0.23194185 0.22762026\n",
            " 0.22364233 0.21998401 0.21662274 0.21353729 0.21070766 0.2081151\n",
            " 0.20574194 0.20357157 0.20158854 0.19977827 0.19812727 0.19662289\n",
            " 0.19525346 0.19400816 0.19287686 0.19185045 0.19092029 0.19007847\n",
            " 0.18931779 0.18863155 0.18801348 0.18745801 0.18695985 0.18651426\n",
            " 0.18611673 0.18576327 0.18545003 0.1851736  0.1849308  0.18471874\n",
            " 0.18453462 0.18437602 0.18424068 0.18412648 0.18403141 0.18395379\n",
            " 0.18389188 0.18384424 0.1838095  0.18378638 0.18377368 0.18377031\n",
            " 0.18377532 0.18378787 0.18380703 0.18383214]\n",
            "22 day output [[0.18386243]]\n",
            "23 day input [0.74726827 0.74901614 0.74611016 0.70395881 0.69757785 0.72911244\n",
            " 0.74006186 0.69005099 0.6881932  0.72218137 0.70385918 0.68208497\n",
            " 0.69170713 0.68959766 0.69217586 0.72277496 0.71819029 0.75027284\n",
            " 0.75083318 0.74499506 0.7506445  0.74812826 0.70271979 0.68569446\n",
            " 0.69660795 0.68363701 0.70417743 0.66433406 0.57316869 0.51136428\n",
            " 0.48381814 0.46571469 0.44586971 0.42416576 0.40286517 0.38330445\n",
            " 0.3657921  0.35015863 0.33611789 0.32341012 0.31183389 0.30123854\n",
            " 0.29151049 0.28256005 0.27431366 0.26670903 0.2596921  0.2532157\n",
            " 0.24723791 0.24172148 0.23663296 0.23194185 0.22762026 0.22364233\n",
            " 0.21998401 0.21662274 0.21353729 0.21070766 0.2081151  0.20574194\n",
            " 0.20357157 0.20158854 0.19977827 0.19812727 0.19662289 0.19525346\n",
            " 0.19400816 0.19287686 0.19185045 0.19092029 0.19007847 0.18931779\n",
            " 0.18863155 0.18801348 0.18745801 0.18695985 0.18651426 0.18611673\n",
            " 0.18576327 0.18545003 0.1851736  0.1849308  0.18471874 0.18453462\n",
            " 0.18437602 0.18424068 0.18412648 0.18403141 0.18395379 0.18389188\n",
            " 0.18384424 0.1838095  0.18378638 0.18377368 0.18377031 0.18377532\n",
            " 0.18378787 0.18380703 0.18383214 0.18386243]\n",
            "23 day output [[0.18389733]]\n",
            "24 day input [0.74901614 0.74611016 0.70395881 0.69757785 0.72911244 0.74006186\n",
            " 0.69005099 0.6881932  0.72218137 0.70385918 0.68208497 0.69170713\n",
            " 0.68959766 0.69217586 0.72277496 0.71819029 0.75027284 0.75083318\n",
            " 0.74499506 0.7506445  0.74812826 0.70271979 0.68569446 0.69660795\n",
            " 0.68363701 0.70417743 0.66433406 0.57316869 0.51136428 0.48381814\n",
            " 0.46571469 0.44586971 0.42416576 0.40286517 0.38330445 0.3657921\n",
            " 0.35015863 0.33611789 0.32341012 0.31183389 0.30123854 0.29151049\n",
            " 0.28256005 0.27431366 0.26670903 0.2596921  0.2532157  0.24723791\n",
            " 0.24172148 0.23663296 0.23194185 0.22762026 0.22364233 0.21998401\n",
            " 0.21662274 0.21353729 0.21070766 0.2081151  0.20574194 0.20357157\n",
            " 0.20158854 0.19977827 0.19812727 0.19662289 0.19525346 0.19400816\n",
            " 0.19287686 0.19185045 0.19092029 0.19007847 0.18931779 0.18863155\n",
            " 0.18801348 0.18745801 0.18695985 0.18651426 0.18611673 0.18576327\n",
            " 0.18545003 0.1851736  0.1849308  0.18471874 0.18453462 0.18437602\n",
            " 0.18424068 0.18412648 0.18403141 0.18395379 0.18389188 0.18384424\n",
            " 0.1838095  0.18378638 0.18377368 0.18377031 0.18377532 0.18378787\n",
            " 0.18380703 0.18383214 0.18386243 0.18389733]\n",
            "24 day output [[0.18393621]]\n",
            "25 day input [0.74611016 0.70395881 0.69757785 0.72911244 0.74006186 0.69005099\n",
            " 0.6881932  0.72218137 0.70385918 0.68208497 0.69170713 0.68959766\n",
            " 0.69217586 0.72277496 0.71819029 0.75027284 0.75083318 0.74499506\n",
            " 0.7506445  0.74812826 0.70271979 0.68569446 0.69660795 0.68363701\n",
            " 0.70417743 0.66433406 0.57316869 0.51136428 0.48381814 0.46571469\n",
            " 0.44586971 0.42416576 0.40286517 0.38330445 0.3657921  0.35015863\n",
            " 0.33611789 0.32341012 0.31183389 0.30123854 0.29151049 0.28256005\n",
            " 0.27431366 0.26670903 0.2596921  0.2532157  0.24723791 0.24172148\n",
            " 0.23663296 0.23194185 0.22762026 0.22364233 0.21998401 0.21662274\n",
            " 0.21353729 0.21070766 0.2081151  0.20574194 0.20357157 0.20158854\n",
            " 0.19977827 0.19812727 0.19662289 0.19525346 0.19400816 0.19287686\n",
            " 0.19185045 0.19092029 0.19007847 0.18931779 0.18863155 0.18801348\n",
            " 0.18745801 0.18695985 0.18651426 0.18611673 0.18576327 0.18545003\n",
            " 0.1851736  0.1849308  0.18471874 0.18453462 0.18437602 0.18424068\n",
            " 0.18412648 0.18403141 0.18395379 0.18389188 0.18384424 0.1838095\n",
            " 0.18378638 0.18377368 0.18377031 0.18377532 0.18378787 0.18380703\n",
            " 0.18383214 0.18386243 0.18389733 0.18393621]\n",
            "25 day output [[0.18397862]]\n",
            "26 day input [0.70395881 0.69757785 0.72911244 0.74006186 0.69005099 0.6881932\n",
            " 0.72218137 0.70385918 0.68208497 0.69170713 0.68959766 0.69217586\n",
            " 0.72277496 0.71819029 0.75027284 0.75083318 0.74499506 0.7506445\n",
            " 0.74812826 0.70271979 0.68569446 0.69660795 0.68363701 0.70417743\n",
            " 0.66433406 0.57316869 0.51136428 0.48381814 0.46571469 0.44586971\n",
            " 0.42416576 0.40286517 0.38330445 0.3657921  0.35015863 0.33611789\n",
            " 0.32341012 0.31183389 0.30123854 0.29151049 0.28256005 0.27431366\n",
            " 0.26670903 0.2596921  0.2532157  0.24723791 0.24172148 0.23663296\n",
            " 0.23194185 0.22762026 0.22364233 0.21998401 0.21662274 0.21353729\n",
            " 0.21070766 0.2081151  0.20574194 0.20357157 0.20158854 0.19977827\n",
            " 0.19812727 0.19662289 0.19525346 0.19400816 0.19287686 0.19185045\n",
            " 0.19092029 0.19007847 0.18931779 0.18863155 0.18801348 0.18745801\n",
            " 0.18695985 0.18651426 0.18611673 0.18576327 0.18545003 0.1851736\n",
            " 0.1849308  0.18471874 0.18453462 0.18437602 0.18424068 0.18412648\n",
            " 0.18403141 0.18395379 0.18389188 0.18384424 0.1838095  0.18378638\n",
            " 0.18377368 0.18377031 0.18377532 0.18378787 0.18380703 0.18383214\n",
            " 0.18386243 0.18389733 0.18393621 0.18397862]\n",
            "26 day output [[0.18402404]]\n",
            "27 day input [0.69757785 0.72911244 0.74006186 0.69005099 0.6881932  0.72218137\n",
            " 0.70385918 0.68208497 0.69170713 0.68959766 0.69217586 0.72277496\n",
            " 0.71819029 0.75027284 0.75083318 0.74499506 0.7506445  0.74812826\n",
            " 0.70271979 0.68569446 0.69660795 0.68363701 0.70417743 0.66433406\n",
            " 0.57316869 0.51136428 0.48381814 0.46571469 0.44586971 0.42416576\n",
            " 0.40286517 0.38330445 0.3657921  0.35015863 0.33611789 0.32341012\n",
            " 0.31183389 0.30123854 0.29151049 0.28256005 0.27431366 0.26670903\n",
            " 0.2596921  0.2532157  0.24723791 0.24172148 0.23663296 0.23194185\n",
            " 0.22762026 0.22364233 0.21998401 0.21662274 0.21353729 0.21070766\n",
            " 0.2081151  0.20574194 0.20357157 0.20158854 0.19977827 0.19812727\n",
            " 0.19662289 0.19525346 0.19400816 0.19287686 0.19185045 0.19092029\n",
            " 0.19007847 0.18931779 0.18863155 0.18801348 0.18745801 0.18695985\n",
            " 0.18651426 0.18611673 0.18576327 0.18545003 0.1851736  0.1849308\n",
            " 0.18471874 0.18453462 0.18437602 0.18424068 0.18412648 0.18403141\n",
            " 0.18395379 0.18389188 0.18384424 0.1838095  0.18378638 0.18377368\n",
            " 0.18377031 0.18377532 0.18378787 0.18380703 0.18383214 0.18386243\n",
            " 0.18389733 0.18393621 0.18397862 0.18402404]\n",
            "27 day output [[0.18407203]]\n",
            "28 day input [0.72911244 0.74006186 0.69005099 0.6881932  0.72218137 0.70385918\n",
            " 0.68208497 0.69170713 0.68959766 0.69217586 0.72277496 0.71819029\n",
            " 0.75027284 0.75083318 0.74499506 0.7506445  0.74812826 0.70271979\n",
            " 0.68569446 0.69660795 0.68363701 0.70417743 0.66433406 0.57316869\n",
            " 0.51136428 0.48381814 0.46571469 0.44586971 0.42416576 0.40286517\n",
            " 0.38330445 0.3657921  0.35015863 0.33611789 0.32341012 0.31183389\n",
            " 0.30123854 0.29151049 0.28256005 0.27431366 0.26670903 0.2596921\n",
            " 0.2532157  0.24723791 0.24172148 0.23663296 0.23194185 0.22762026\n",
            " 0.22364233 0.21998401 0.21662274 0.21353729 0.21070766 0.2081151\n",
            " 0.20574194 0.20357157 0.20158854 0.19977827 0.19812727 0.19662289\n",
            " 0.19525346 0.19400816 0.19287686 0.19185045 0.19092029 0.19007847\n",
            " 0.18931779 0.18863155 0.18801348 0.18745801 0.18695985 0.18651426\n",
            " 0.18611673 0.18576327 0.18545003 0.1851736  0.1849308  0.18471874\n",
            " 0.18453462 0.18437602 0.18424068 0.18412648 0.18403141 0.18395379\n",
            " 0.18389188 0.18384424 0.1838095  0.18378638 0.18377368 0.18377031\n",
            " 0.18377532 0.18378787 0.18380703 0.18383214 0.18386243 0.18389733\n",
            " 0.18393621 0.18397862 0.18402404 0.18407203]\n",
            "28 day output [[0.18412226]]\n",
            "29 day input [0.74006186 0.69005099 0.6881932  0.72218137 0.70385918 0.68208497\n",
            " 0.69170713 0.68959766 0.69217586 0.72277496 0.71819029 0.75027284\n",
            " 0.75083318 0.74499506 0.7506445  0.74812826 0.70271979 0.68569446\n",
            " 0.69660795 0.68363701 0.70417743 0.66433406 0.57316869 0.51136428\n",
            " 0.48381814 0.46571469 0.44586971 0.42416576 0.40286517 0.38330445\n",
            " 0.3657921  0.35015863 0.33611789 0.32341012 0.31183389 0.30123854\n",
            " 0.29151049 0.28256005 0.27431366 0.26670903 0.2596921  0.2532157\n",
            " 0.24723791 0.24172148 0.23663296 0.23194185 0.22762026 0.22364233\n",
            " 0.21998401 0.21662274 0.21353729 0.21070766 0.2081151  0.20574194\n",
            " 0.20357157 0.20158854 0.19977827 0.19812727 0.19662289 0.19525346\n",
            " 0.19400816 0.19287686 0.19185045 0.19092029 0.19007847 0.18931779\n",
            " 0.18863155 0.18801348 0.18745801 0.18695985 0.18651426 0.18611673\n",
            " 0.18576327 0.18545003 0.1851736  0.1849308  0.18471874 0.18453462\n",
            " 0.18437602 0.18424068 0.18412648 0.18403141 0.18395379 0.18389188\n",
            " 0.18384424 0.1838095  0.18378638 0.18377368 0.18377031 0.18377532\n",
            " 0.18378787 0.18380703 0.18383214 0.18386243 0.18389733 0.18393621\n",
            " 0.18397862 0.18402404 0.18407203 0.18412226]\n",
            "29 day output [[0.18417422]]\n",
            "30 day input [0.69005099 0.6881932  0.72218137 0.70385918 0.68208497 0.69170713\n",
            " 0.68959766 0.69217586 0.72277496 0.71819029 0.75027284 0.75083318\n",
            " 0.74499506 0.7506445  0.74812826 0.70271979 0.68569446 0.69660795\n",
            " 0.68363701 0.70417743 0.66433406 0.57316869 0.51136428 0.48381814\n",
            " 0.46571469 0.44586971 0.42416576 0.40286517 0.38330445 0.3657921\n",
            " 0.35015863 0.33611789 0.32341012 0.31183389 0.30123854 0.29151049\n",
            " 0.28256005 0.27431366 0.26670903 0.2596921  0.2532157  0.24723791\n",
            " 0.24172148 0.23663296 0.23194185 0.22762026 0.22364233 0.21998401\n",
            " 0.21662274 0.21353729 0.21070766 0.2081151  0.20574194 0.20357157\n",
            " 0.20158854 0.19977827 0.19812727 0.19662289 0.19525346 0.19400816\n",
            " 0.19287686 0.19185045 0.19092029 0.19007847 0.18931779 0.18863155\n",
            " 0.18801348 0.18745801 0.18695985 0.18651426 0.18611673 0.18576327\n",
            " 0.18545003 0.1851736  0.1849308  0.18471874 0.18453462 0.18437602\n",
            " 0.18424068 0.18412648 0.18403141 0.18395379 0.18389188 0.18384424\n",
            " 0.1838095  0.18378638 0.18377368 0.18377031 0.18377532 0.18378787\n",
            " 0.18380703 0.18383214 0.18386243 0.18389733 0.18393621 0.18397862\n",
            " 0.18402404 0.18407203 0.18412226 0.18417422]\n",
            "30 day output [[0.18422768]]\n",
            "31 day input [0.6881932  0.72218137 0.70385918 0.68208497 0.69170713 0.68959766\n",
            " 0.69217586 0.72277496 0.71819029 0.75027284 0.75083318 0.74499506\n",
            " 0.7506445  0.74812826 0.70271979 0.68569446 0.69660795 0.68363701\n",
            " 0.70417743 0.66433406 0.57316869 0.51136428 0.48381814 0.46571469\n",
            " 0.44586971 0.42416576 0.40286517 0.38330445 0.3657921  0.35015863\n",
            " 0.33611789 0.32341012 0.31183389 0.30123854 0.29151049 0.28256005\n",
            " 0.27431366 0.26670903 0.2596921  0.2532157  0.24723791 0.24172148\n",
            " 0.23663296 0.23194185 0.22762026 0.22364233 0.21998401 0.21662274\n",
            " 0.21353729 0.21070766 0.2081151  0.20574194 0.20357157 0.20158854\n",
            " 0.19977827 0.19812727 0.19662289 0.19525346 0.19400816 0.19287686\n",
            " 0.19185045 0.19092029 0.19007847 0.18931779 0.18863155 0.18801348\n",
            " 0.18745801 0.18695985 0.18651426 0.18611673 0.18576327 0.18545003\n",
            " 0.1851736  0.1849308  0.18471874 0.18453462 0.18437602 0.18424068\n",
            " 0.18412648 0.18403141 0.18395379 0.18389188 0.18384424 0.1838095\n",
            " 0.18378638 0.18377368 0.18377031 0.18377532 0.18378787 0.18380703\n",
            " 0.18383214 0.18386243 0.18389733 0.18393621 0.18397862 0.18402404\n",
            " 0.18407203 0.18412226 0.18417422 0.18422768]\n",
            "31 day output [[0.18428236]]\n",
            "32 day input [0.72218137 0.70385918 0.68208497 0.69170713 0.68959766 0.69217586\n",
            " 0.72277496 0.71819029 0.75027284 0.75083318 0.74499506 0.7506445\n",
            " 0.74812826 0.70271979 0.68569446 0.69660795 0.68363701 0.70417743\n",
            " 0.66433406 0.57316869 0.51136428 0.48381814 0.46571469 0.44586971\n",
            " 0.42416576 0.40286517 0.38330445 0.3657921  0.35015863 0.33611789\n",
            " 0.32341012 0.31183389 0.30123854 0.29151049 0.28256005 0.27431366\n",
            " 0.26670903 0.2596921  0.2532157  0.24723791 0.24172148 0.23663296\n",
            " 0.23194185 0.22762026 0.22364233 0.21998401 0.21662274 0.21353729\n",
            " 0.21070766 0.2081151  0.20574194 0.20357157 0.20158854 0.19977827\n",
            " 0.19812727 0.19662289 0.19525346 0.19400816 0.19287686 0.19185045\n",
            " 0.19092029 0.19007847 0.18931779 0.18863155 0.18801348 0.18745801\n",
            " 0.18695985 0.18651426 0.18611673 0.18576327 0.18545003 0.1851736\n",
            " 0.1849308  0.18471874 0.18453462 0.18437602 0.18424068 0.18412648\n",
            " 0.18403141 0.18395379 0.18389188 0.18384424 0.1838095  0.18378638\n",
            " 0.18377368 0.18377031 0.18377532 0.18378787 0.18380703 0.18383214\n",
            " 0.18386243 0.18389733 0.18393621 0.18397862 0.18402404 0.18407203\n",
            " 0.18412226 0.18417422 0.18422768 0.18428236]\n",
            "32 day output [[0.184338]]\n",
            "33 day input [0.70385918 0.68208497 0.69170713 0.68959766 0.69217586 0.72277496\n",
            " 0.71819029 0.75027284 0.75083318 0.74499506 0.7506445  0.74812826\n",
            " 0.70271979 0.68569446 0.69660795 0.68363701 0.70417743 0.66433406\n",
            " 0.57316869 0.51136428 0.48381814 0.46571469 0.44586971 0.42416576\n",
            " 0.40286517 0.38330445 0.3657921  0.35015863 0.33611789 0.32341012\n",
            " 0.31183389 0.30123854 0.29151049 0.28256005 0.27431366 0.26670903\n",
            " 0.2596921  0.2532157  0.24723791 0.24172148 0.23663296 0.23194185\n",
            " 0.22762026 0.22364233 0.21998401 0.21662274 0.21353729 0.21070766\n",
            " 0.2081151  0.20574194 0.20357157 0.20158854 0.19977827 0.19812727\n",
            " 0.19662289 0.19525346 0.19400816 0.19287686 0.19185045 0.19092029\n",
            " 0.19007847 0.18931779 0.18863155 0.18801348 0.18745801 0.18695985\n",
            " 0.18651426 0.18611673 0.18576327 0.18545003 0.1851736  0.1849308\n",
            " 0.18471874 0.18453462 0.18437602 0.18424068 0.18412648 0.18403141\n",
            " 0.18395379 0.18389188 0.18384424 0.1838095  0.18378638 0.18377368\n",
            " 0.18377031 0.18377532 0.18378787 0.18380703 0.18383214 0.18386243\n",
            " 0.18389733 0.18393621 0.18397862 0.18402404 0.18407203 0.18412226\n",
            " 0.18417422 0.18422768 0.18428236 0.184338  ]\n",
            "33 day output [[0.18439431]]\n",
            "34 day input [0.68208497 0.69170713 0.68959766 0.69217586 0.72277496 0.71819029\n",
            " 0.75027284 0.75083318 0.74499506 0.7506445  0.74812826 0.70271979\n",
            " 0.68569446 0.69660795 0.68363701 0.70417743 0.66433406 0.57316869\n",
            " 0.51136428 0.48381814 0.46571469 0.44586971 0.42416576 0.40286517\n",
            " 0.38330445 0.3657921  0.35015863 0.33611789 0.32341012 0.31183389\n",
            " 0.30123854 0.29151049 0.28256005 0.27431366 0.26670903 0.2596921\n",
            " 0.2532157  0.24723791 0.24172148 0.23663296 0.23194185 0.22762026\n",
            " 0.22364233 0.21998401 0.21662274 0.21353729 0.21070766 0.2081151\n",
            " 0.20574194 0.20357157 0.20158854 0.19977827 0.19812727 0.19662289\n",
            " 0.19525346 0.19400816 0.19287686 0.19185045 0.19092029 0.19007847\n",
            " 0.18931779 0.18863155 0.18801348 0.18745801 0.18695985 0.18651426\n",
            " 0.18611673 0.18576327 0.18545003 0.1851736  0.1849308  0.18471874\n",
            " 0.18453462 0.18437602 0.18424068 0.18412648 0.18403141 0.18395379\n",
            " 0.18389188 0.18384424 0.1838095  0.18378638 0.18377368 0.18377031\n",
            " 0.18377532 0.18378787 0.18380703 0.18383214 0.18386243 0.18389733\n",
            " 0.18393621 0.18397862 0.18402404 0.18407203 0.18412226 0.18417422\n",
            " 0.18422768 0.18428236 0.184338   0.18439431]\n",
            "34 day output [[0.18445113]]\n",
            "35 day input [0.69170713 0.68959766 0.69217586 0.72277496 0.71819029 0.75027284\n",
            " 0.75083318 0.74499506 0.7506445  0.74812826 0.70271979 0.68569446\n",
            " 0.69660795 0.68363701 0.70417743 0.66433406 0.57316869 0.51136428\n",
            " 0.48381814 0.46571469 0.44586971 0.42416576 0.40286517 0.38330445\n",
            " 0.3657921  0.35015863 0.33611789 0.32341012 0.31183389 0.30123854\n",
            " 0.29151049 0.28256005 0.27431366 0.26670903 0.2596921  0.2532157\n",
            " 0.24723791 0.24172148 0.23663296 0.23194185 0.22762026 0.22364233\n",
            " 0.21998401 0.21662274 0.21353729 0.21070766 0.2081151  0.20574194\n",
            " 0.20357157 0.20158854 0.19977827 0.19812727 0.19662289 0.19525346\n",
            " 0.19400816 0.19287686 0.19185045 0.19092029 0.19007847 0.18931779\n",
            " 0.18863155 0.18801348 0.18745801 0.18695985 0.18651426 0.18611673\n",
            " 0.18576327 0.18545003 0.1851736  0.1849308  0.18471874 0.18453462\n",
            " 0.18437602 0.18424068 0.18412648 0.18403141 0.18395379 0.18389188\n",
            " 0.18384424 0.1838095  0.18378638 0.18377368 0.18377031 0.18377532\n",
            " 0.18378787 0.18380703 0.18383214 0.18386243 0.18389733 0.18393621\n",
            " 0.18397862 0.18402404 0.18407203 0.18412226 0.18417422 0.18422768\n",
            " 0.18428236 0.184338   0.18439431 0.18445113]\n",
            "35 day output [[0.18450813]]\n",
            "36 day input [0.68959766 0.69217586 0.72277496 0.71819029 0.75027284 0.75083318\n",
            " 0.74499506 0.7506445  0.74812826 0.70271979 0.68569446 0.69660795\n",
            " 0.68363701 0.70417743 0.66433406 0.57316869 0.51136428 0.48381814\n",
            " 0.46571469 0.44586971 0.42416576 0.40286517 0.38330445 0.3657921\n",
            " 0.35015863 0.33611789 0.32341012 0.31183389 0.30123854 0.29151049\n",
            " 0.28256005 0.27431366 0.26670903 0.2596921  0.2532157  0.24723791\n",
            " 0.24172148 0.23663296 0.23194185 0.22762026 0.22364233 0.21998401\n",
            " 0.21662274 0.21353729 0.21070766 0.2081151  0.20574194 0.20357157\n",
            " 0.20158854 0.19977827 0.19812727 0.19662289 0.19525346 0.19400816\n",
            " 0.19287686 0.19185045 0.19092029 0.19007847 0.18931779 0.18863155\n",
            " 0.18801348 0.18745801 0.18695985 0.18651426 0.18611673 0.18576327\n",
            " 0.18545003 0.1851736  0.1849308  0.18471874 0.18453462 0.18437602\n",
            " 0.18424068 0.18412648 0.18403141 0.18395379 0.18389188 0.18384424\n",
            " 0.1838095  0.18378638 0.18377368 0.18377031 0.18377532 0.18378787\n",
            " 0.18380703 0.18383214 0.18386243 0.18389733 0.18393621 0.18397862\n",
            " 0.18402404 0.18407203 0.18412226 0.18417422 0.18422768 0.18428236\n",
            " 0.184338   0.18439431 0.18445113 0.18450813]\n",
            "36 day output [[0.18456526]]\n",
            "37 day input [0.69217586 0.72277496 0.71819029 0.75027284 0.75083318 0.74499506\n",
            " 0.7506445  0.74812826 0.70271979 0.68569446 0.69660795 0.68363701\n",
            " 0.70417743 0.66433406 0.57316869 0.51136428 0.48381814 0.46571469\n",
            " 0.44586971 0.42416576 0.40286517 0.38330445 0.3657921  0.35015863\n",
            " 0.33611789 0.32341012 0.31183389 0.30123854 0.29151049 0.28256005\n",
            " 0.27431366 0.26670903 0.2596921  0.2532157  0.24723791 0.24172148\n",
            " 0.23663296 0.23194185 0.22762026 0.22364233 0.21998401 0.21662274\n",
            " 0.21353729 0.21070766 0.2081151  0.20574194 0.20357157 0.20158854\n",
            " 0.19977827 0.19812727 0.19662289 0.19525346 0.19400816 0.19287686\n",
            " 0.19185045 0.19092029 0.19007847 0.18931779 0.18863155 0.18801348\n",
            " 0.18745801 0.18695985 0.18651426 0.18611673 0.18576327 0.18545003\n",
            " 0.1851736  0.1849308  0.18471874 0.18453462 0.18437602 0.18424068\n",
            " 0.18412648 0.18403141 0.18395379 0.18389188 0.18384424 0.1838095\n",
            " 0.18378638 0.18377368 0.18377031 0.18377532 0.18378787 0.18380703\n",
            " 0.18383214 0.18386243 0.18389733 0.18393621 0.18397862 0.18402404\n",
            " 0.18407203 0.18412226 0.18417422 0.18422768 0.18428236 0.184338\n",
            " 0.18439431 0.18445113 0.18450813 0.18456526]\n",
            "37 day output [[0.18462227]]\n",
            "38 day input [0.72277496 0.71819029 0.75027284 0.75083318 0.74499506 0.7506445\n",
            " 0.74812826 0.70271979 0.68569446 0.69660795 0.68363701 0.70417743\n",
            " 0.66433406 0.57316869 0.51136428 0.48381814 0.46571469 0.44586971\n",
            " 0.42416576 0.40286517 0.38330445 0.3657921  0.35015863 0.33611789\n",
            " 0.32341012 0.31183389 0.30123854 0.29151049 0.28256005 0.27431366\n",
            " 0.26670903 0.2596921  0.2532157  0.24723791 0.24172148 0.23663296\n",
            " 0.23194185 0.22762026 0.22364233 0.21998401 0.21662274 0.21353729\n",
            " 0.21070766 0.2081151  0.20574194 0.20357157 0.20158854 0.19977827\n",
            " 0.19812727 0.19662289 0.19525346 0.19400816 0.19287686 0.19185045\n",
            " 0.19092029 0.19007847 0.18931779 0.18863155 0.18801348 0.18745801\n",
            " 0.18695985 0.18651426 0.18611673 0.18576327 0.18545003 0.1851736\n",
            " 0.1849308  0.18471874 0.18453462 0.18437602 0.18424068 0.18412648\n",
            " 0.18403141 0.18395379 0.18389188 0.18384424 0.1838095  0.18378638\n",
            " 0.18377368 0.18377031 0.18377532 0.18378787 0.18380703 0.18383214\n",
            " 0.18386243 0.18389733 0.18393621 0.18397862 0.18402404 0.18407203\n",
            " 0.18412226 0.18417422 0.18422768 0.18428236 0.184338   0.18439431\n",
            " 0.18445113 0.18450813 0.18456526 0.18462227]\n",
            "38 day output [[0.18467909]]\n",
            "39 day input [0.71819029 0.75027284 0.75083318 0.74499506 0.7506445  0.74812826\n",
            " 0.70271979 0.68569446 0.69660795 0.68363701 0.70417743 0.66433406\n",
            " 0.57316869 0.51136428 0.48381814 0.46571469 0.44586971 0.42416576\n",
            " 0.40286517 0.38330445 0.3657921  0.35015863 0.33611789 0.32341012\n",
            " 0.31183389 0.30123854 0.29151049 0.28256005 0.27431366 0.26670903\n",
            " 0.2596921  0.2532157  0.24723791 0.24172148 0.23663296 0.23194185\n",
            " 0.22762026 0.22364233 0.21998401 0.21662274 0.21353729 0.21070766\n",
            " 0.2081151  0.20574194 0.20357157 0.20158854 0.19977827 0.19812727\n",
            " 0.19662289 0.19525346 0.19400816 0.19287686 0.19185045 0.19092029\n",
            " 0.19007847 0.18931779 0.18863155 0.18801348 0.18745801 0.18695985\n",
            " 0.18651426 0.18611673 0.18576327 0.18545003 0.1851736  0.1849308\n",
            " 0.18471874 0.18453462 0.18437602 0.18424068 0.18412648 0.18403141\n",
            " 0.18395379 0.18389188 0.18384424 0.1838095  0.18378638 0.18377368\n",
            " 0.18377031 0.18377532 0.18378787 0.18380703 0.18383214 0.18386243\n",
            " 0.18389733 0.18393621 0.18397862 0.18402404 0.18407203 0.18412226\n",
            " 0.18417422 0.18422768 0.18428236 0.184338   0.18439431 0.18445113\n",
            " 0.18450813 0.18456526 0.18462227 0.18467909]\n",
            "39 day output [[0.18473561]]\n",
            "40 day input [0.75027284 0.75083318 0.74499506 0.7506445  0.74812826 0.70271979\n",
            " 0.68569446 0.69660795 0.68363701 0.70417743 0.66433406 0.57316869\n",
            " 0.51136428 0.48381814 0.46571469 0.44586971 0.42416576 0.40286517\n",
            " 0.38330445 0.3657921  0.35015863 0.33611789 0.32341012 0.31183389\n",
            " 0.30123854 0.29151049 0.28256005 0.27431366 0.26670903 0.2596921\n",
            " 0.2532157  0.24723791 0.24172148 0.23663296 0.23194185 0.22762026\n",
            " 0.22364233 0.21998401 0.21662274 0.21353729 0.21070766 0.2081151\n",
            " 0.20574194 0.20357157 0.20158854 0.19977827 0.19812727 0.19662289\n",
            " 0.19525346 0.19400816 0.19287686 0.19185045 0.19092029 0.19007847\n",
            " 0.18931779 0.18863155 0.18801348 0.18745801 0.18695985 0.18651426\n",
            " 0.18611673 0.18576327 0.18545003 0.1851736  0.1849308  0.18471874\n",
            " 0.18453462 0.18437602 0.18424068 0.18412648 0.18403141 0.18395379\n",
            " 0.18389188 0.18384424 0.1838095  0.18378638 0.18377368 0.18377031\n",
            " 0.18377532 0.18378787 0.18380703 0.18383214 0.18386243 0.18389733\n",
            " 0.18393621 0.18397862 0.18402404 0.18407203 0.18412226 0.18417422\n",
            " 0.18422768 0.18428236 0.184338   0.18439431 0.18445113 0.18450813\n",
            " 0.18456526 0.18462227 0.18467909 0.18473561]\n",
            "40 day output [[0.18479162]]\n",
            "41 day input [0.75083318 0.74499506 0.7506445  0.74812826 0.70271979 0.68569446\n",
            " 0.69660795 0.68363701 0.70417743 0.66433406 0.57316869 0.51136428\n",
            " 0.48381814 0.46571469 0.44586971 0.42416576 0.40286517 0.38330445\n",
            " 0.3657921  0.35015863 0.33611789 0.32341012 0.31183389 0.30123854\n",
            " 0.29151049 0.28256005 0.27431366 0.26670903 0.2596921  0.2532157\n",
            " 0.24723791 0.24172148 0.23663296 0.23194185 0.22762026 0.22364233\n",
            " 0.21998401 0.21662274 0.21353729 0.21070766 0.2081151  0.20574194\n",
            " 0.20357157 0.20158854 0.19977827 0.19812727 0.19662289 0.19525346\n",
            " 0.19400816 0.19287686 0.19185045 0.19092029 0.19007847 0.18931779\n",
            " 0.18863155 0.18801348 0.18745801 0.18695985 0.18651426 0.18611673\n",
            " 0.18576327 0.18545003 0.1851736  0.1849308  0.18471874 0.18453462\n",
            " 0.18437602 0.18424068 0.18412648 0.18403141 0.18395379 0.18389188\n",
            " 0.18384424 0.1838095  0.18378638 0.18377368 0.18377031 0.18377532\n",
            " 0.18378787 0.18380703 0.18383214 0.18386243 0.18389733 0.18393621\n",
            " 0.18397862 0.18402404 0.18407203 0.18412226 0.18417422 0.18422768\n",
            " 0.18428236 0.184338   0.18439431 0.18445113 0.18450813 0.18456526\n",
            " 0.18462227 0.18467909 0.18473561 0.18479162]\n",
            "41 day output [[0.18484709]]\n",
            "42 day input [0.74499506 0.7506445  0.74812826 0.70271979 0.68569446 0.69660795\n",
            " 0.68363701 0.70417743 0.66433406 0.57316869 0.51136428 0.48381814\n",
            " 0.46571469 0.44586971 0.42416576 0.40286517 0.38330445 0.3657921\n",
            " 0.35015863 0.33611789 0.32341012 0.31183389 0.30123854 0.29151049\n",
            " 0.28256005 0.27431366 0.26670903 0.2596921  0.2532157  0.24723791\n",
            " 0.24172148 0.23663296 0.23194185 0.22762026 0.22364233 0.21998401\n",
            " 0.21662274 0.21353729 0.21070766 0.2081151  0.20574194 0.20357157\n",
            " 0.20158854 0.19977827 0.19812727 0.19662289 0.19525346 0.19400816\n",
            " 0.19287686 0.19185045 0.19092029 0.19007847 0.18931779 0.18863155\n",
            " 0.18801348 0.18745801 0.18695985 0.18651426 0.18611673 0.18576327\n",
            " 0.18545003 0.1851736  0.1849308  0.18471874 0.18453462 0.18437602\n",
            " 0.18424068 0.18412648 0.18403141 0.18395379 0.18389188 0.18384424\n",
            " 0.1838095  0.18378638 0.18377368 0.18377031 0.18377532 0.18378787\n",
            " 0.18380703 0.18383214 0.18386243 0.18389733 0.18393621 0.18397862\n",
            " 0.18402404 0.18407203 0.18412226 0.18417422 0.18422768 0.18428236\n",
            " 0.184338   0.18439431 0.18445113 0.18450813 0.18456526 0.18462227\n",
            " 0.18467909 0.18473561 0.18479162 0.18484709]\n",
            "42 day output [[0.18490195]]\n",
            "43 day input [0.7506445  0.74812826 0.70271979 0.68569446 0.69660795 0.68363701\n",
            " 0.70417743 0.66433406 0.57316869 0.51136428 0.48381814 0.46571469\n",
            " 0.44586971 0.42416576 0.40286517 0.38330445 0.3657921  0.35015863\n",
            " 0.33611789 0.32341012 0.31183389 0.30123854 0.29151049 0.28256005\n",
            " 0.27431366 0.26670903 0.2596921  0.2532157  0.24723791 0.24172148\n",
            " 0.23663296 0.23194185 0.22762026 0.22364233 0.21998401 0.21662274\n",
            " 0.21353729 0.21070766 0.2081151  0.20574194 0.20357157 0.20158854\n",
            " 0.19977827 0.19812727 0.19662289 0.19525346 0.19400816 0.19287686\n",
            " 0.19185045 0.19092029 0.19007847 0.18931779 0.18863155 0.18801348\n",
            " 0.18745801 0.18695985 0.18651426 0.18611673 0.18576327 0.18545003\n",
            " 0.1851736  0.1849308  0.18471874 0.18453462 0.18437602 0.18424068\n",
            " 0.18412648 0.18403141 0.18395379 0.18389188 0.18384424 0.1838095\n",
            " 0.18378638 0.18377368 0.18377031 0.18377532 0.18378787 0.18380703\n",
            " 0.18383214 0.18386243 0.18389733 0.18393621 0.18397862 0.18402404\n",
            " 0.18407203 0.18412226 0.18417422 0.18422768 0.18428236 0.184338\n",
            " 0.18439431 0.18445113 0.18450813 0.18456526 0.18462227 0.18467909\n",
            " 0.18473561 0.18479162 0.18484709 0.18490195]\n",
            "43 day output [[0.18495607]]\n",
            "44 day input [0.74812826 0.70271979 0.68569446 0.69660795 0.68363701 0.70417743\n",
            " 0.66433406 0.57316869 0.51136428 0.48381814 0.46571469 0.44586971\n",
            " 0.42416576 0.40286517 0.38330445 0.3657921  0.35015863 0.33611789\n",
            " 0.32341012 0.31183389 0.30123854 0.29151049 0.28256005 0.27431366\n",
            " 0.26670903 0.2596921  0.2532157  0.24723791 0.24172148 0.23663296\n",
            " 0.23194185 0.22762026 0.22364233 0.21998401 0.21662274 0.21353729\n",
            " 0.21070766 0.2081151  0.20574194 0.20357157 0.20158854 0.19977827\n",
            " 0.19812727 0.19662289 0.19525346 0.19400816 0.19287686 0.19185045\n",
            " 0.19092029 0.19007847 0.18931779 0.18863155 0.18801348 0.18745801\n",
            " 0.18695985 0.18651426 0.18611673 0.18576327 0.18545003 0.1851736\n",
            " 0.1849308  0.18471874 0.18453462 0.18437602 0.18424068 0.18412648\n",
            " 0.18403141 0.18395379 0.18389188 0.18384424 0.1838095  0.18378638\n",
            " 0.18377368 0.18377031 0.18377532 0.18378787 0.18380703 0.18383214\n",
            " 0.18386243 0.18389733 0.18393621 0.18397862 0.18402404 0.18407203\n",
            " 0.18412226 0.18417422 0.18422768 0.18428236 0.184338   0.18439431\n",
            " 0.18445113 0.18450813 0.18456526 0.18462227 0.18467909 0.18473561\n",
            " 0.18479162 0.18484709 0.18490195 0.18495607]\n",
            "44 day output [[0.18500946]]\n",
            "45 day input [0.70271979 0.68569446 0.69660795 0.68363701 0.70417743 0.66433406\n",
            " 0.57316869 0.51136428 0.48381814 0.46571469 0.44586971 0.42416576\n",
            " 0.40286517 0.38330445 0.3657921  0.35015863 0.33611789 0.32341012\n",
            " 0.31183389 0.30123854 0.29151049 0.28256005 0.27431366 0.26670903\n",
            " 0.2596921  0.2532157  0.24723791 0.24172148 0.23663296 0.23194185\n",
            " 0.22762026 0.22364233 0.21998401 0.21662274 0.21353729 0.21070766\n",
            " 0.2081151  0.20574194 0.20357157 0.20158854 0.19977827 0.19812727\n",
            " 0.19662289 0.19525346 0.19400816 0.19287686 0.19185045 0.19092029\n",
            " 0.19007847 0.18931779 0.18863155 0.18801348 0.18745801 0.18695985\n",
            " 0.18651426 0.18611673 0.18576327 0.18545003 0.1851736  0.1849308\n",
            " 0.18471874 0.18453462 0.18437602 0.18424068 0.18412648 0.18403141\n",
            " 0.18395379 0.18389188 0.18384424 0.1838095  0.18378638 0.18377368\n",
            " 0.18377031 0.18377532 0.18378787 0.18380703 0.18383214 0.18386243\n",
            " 0.18389733 0.18393621 0.18397862 0.18402404 0.18407203 0.18412226\n",
            " 0.18417422 0.18422768 0.18428236 0.184338   0.18439431 0.18445113\n",
            " 0.18450813 0.18456526 0.18462227 0.18467909 0.18473561 0.18479162\n",
            " 0.18484709 0.18490195 0.18495607 0.18500946]\n",
            "45 day output [[0.18506198]]\n",
            "46 day input [0.68569446 0.69660795 0.68363701 0.70417743 0.66433406 0.57316869\n",
            " 0.51136428 0.48381814 0.46571469 0.44586971 0.42416576 0.40286517\n",
            " 0.38330445 0.3657921  0.35015863 0.33611789 0.32341012 0.31183389\n",
            " 0.30123854 0.29151049 0.28256005 0.27431366 0.26670903 0.2596921\n",
            " 0.2532157  0.24723791 0.24172148 0.23663296 0.23194185 0.22762026\n",
            " 0.22364233 0.21998401 0.21662274 0.21353729 0.21070766 0.2081151\n",
            " 0.20574194 0.20357157 0.20158854 0.19977827 0.19812727 0.19662289\n",
            " 0.19525346 0.19400816 0.19287686 0.19185045 0.19092029 0.19007847\n",
            " 0.18931779 0.18863155 0.18801348 0.18745801 0.18695985 0.18651426\n",
            " 0.18611673 0.18576327 0.18545003 0.1851736  0.1849308  0.18471874\n",
            " 0.18453462 0.18437602 0.18424068 0.18412648 0.18403141 0.18395379\n",
            " 0.18389188 0.18384424 0.1838095  0.18378638 0.18377368 0.18377031\n",
            " 0.18377532 0.18378787 0.18380703 0.18383214 0.18386243 0.18389733\n",
            " 0.18393621 0.18397862 0.18402404 0.18407203 0.18412226 0.18417422\n",
            " 0.18422768 0.18428236 0.184338   0.18439431 0.18445113 0.18450813\n",
            " 0.18456526 0.18462227 0.18467909 0.18473561 0.18479162 0.18484709\n",
            " 0.18490195 0.18495607 0.18500946 0.18506198]\n",
            "46 day output [[0.18511365]]\n",
            "47 day input [0.69660795 0.68363701 0.70417743 0.66433406 0.57316869 0.51136428\n",
            " 0.48381814 0.46571469 0.44586971 0.42416576 0.40286517 0.38330445\n",
            " 0.3657921  0.35015863 0.33611789 0.32341012 0.31183389 0.30123854\n",
            " 0.29151049 0.28256005 0.27431366 0.26670903 0.2596921  0.2532157\n",
            " 0.24723791 0.24172148 0.23663296 0.23194185 0.22762026 0.22364233\n",
            " 0.21998401 0.21662274 0.21353729 0.21070766 0.2081151  0.20574194\n",
            " 0.20357157 0.20158854 0.19977827 0.19812727 0.19662289 0.19525346\n",
            " 0.19400816 0.19287686 0.19185045 0.19092029 0.19007847 0.18931779\n",
            " 0.18863155 0.18801348 0.18745801 0.18695985 0.18651426 0.18611673\n",
            " 0.18576327 0.18545003 0.1851736  0.1849308  0.18471874 0.18453462\n",
            " 0.18437602 0.18424068 0.18412648 0.18403141 0.18395379 0.18389188\n",
            " 0.18384424 0.1838095  0.18378638 0.18377368 0.18377031 0.18377532\n",
            " 0.18378787 0.18380703 0.18383214 0.18386243 0.18389733 0.18393621\n",
            " 0.18397862 0.18402404 0.18407203 0.18412226 0.18417422 0.18422768\n",
            " 0.18428236 0.184338   0.18439431 0.18445113 0.18450813 0.18456526\n",
            " 0.18462227 0.18467909 0.18473561 0.18479162 0.18484709 0.18490195\n",
            " 0.18495607 0.18500946 0.18506198 0.18511365]\n",
            "47 day output [[0.18516438]]\n",
            "48 day input [0.68363701 0.70417743 0.66433406 0.57316869 0.51136428 0.48381814\n",
            " 0.46571469 0.44586971 0.42416576 0.40286517 0.38330445 0.3657921\n",
            " 0.35015863 0.33611789 0.32341012 0.31183389 0.30123854 0.29151049\n",
            " 0.28256005 0.27431366 0.26670903 0.2596921  0.2532157  0.24723791\n",
            " 0.24172148 0.23663296 0.23194185 0.22762026 0.22364233 0.21998401\n",
            " 0.21662274 0.21353729 0.21070766 0.2081151  0.20574194 0.20357157\n",
            " 0.20158854 0.19977827 0.19812727 0.19662289 0.19525346 0.19400816\n",
            " 0.19287686 0.19185045 0.19092029 0.19007847 0.18931779 0.18863155\n",
            " 0.18801348 0.18745801 0.18695985 0.18651426 0.18611673 0.18576327\n",
            " 0.18545003 0.1851736  0.1849308  0.18471874 0.18453462 0.18437602\n",
            " 0.18424068 0.18412648 0.18403141 0.18395379 0.18389188 0.18384424\n",
            " 0.1838095  0.18378638 0.18377368 0.18377031 0.18377532 0.18378787\n",
            " 0.18380703 0.18383214 0.18386243 0.18389733 0.18393621 0.18397862\n",
            " 0.18402404 0.18407203 0.18412226 0.18417422 0.18422768 0.18428236\n",
            " 0.184338   0.18439431 0.18445113 0.18450813 0.18456526 0.18462227\n",
            " 0.18467909 0.18473561 0.18479162 0.18484709 0.18490195 0.18495607\n",
            " 0.18500946 0.18506198 0.18511365 0.18516438]\n",
            "48 day output [[0.18521413]]\n",
            "49 day input [0.70417743 0.66433406 0.57316869 0.51136428 0.48381814 0.46571469\n",
            " 0.44586971 0.42416576 0.40286517 0.38330445 0.3657921  0.35015863\n",
            " 0.33611789 0.32341012 0.31183389 0.30123854 0.29151049 0.28256005\n",
            " 0.27431366 0.26670903 0.2596921  0.2532157  0.24723791 0.24172148\n",
            " 0.23663296 0.23194185 0.22762026 0.22364233 0.21998401 0.21662274\n",
            " 0.21353729 0.21070766 0.2081151  0.20574194 0.20357157 0.20158854\n",
            " 0.19977827 0.19812727 0.19662289 0.19525346 0.19400816 0.19287686\n",
            " 0.19185045 0.19092029 0.19007847 0.18931779 0.18863155 0.18801348\n",
            " 0.18745801 0.18695985 0.18651426 0.18611673 0.18576327 0.18545003\n",
            " 0.1851736  0.1849308  0.18471874 0.18453462 0.18437602 0.18424068\n",
            " 0.18412648 0.18403141 0.18395379 0.18389188 0.18384424 0.1838095\n",
            " 0.18378638 0.18377368 0.18377031 0.18377532 0.18378787 0.18380703\n",
            " 0.18383214 0.18386243 0.18389733 0.18393621 0.18397862 0.18402404\n",
            " 0.18407203 0.18412226 0.18417422 0.18422768 0.18428236 0.184338\n",
            " 0.18439431 0.18445113 0.18450813 0.18456526 0.18462227 0.18467909\n",
            " 0.18473561 0.18479162 0.18484709 0.18490195 0.18495607 0.18500946\n",
            " 0.18506198 0.18511365 0.18516438 0.18521413]\n",
            "49 day output [[0.18526284]]\n",
            "[[0.18611672520637512], [0.18576326966285706], [0.18545003235340118], [0.18517360091209412], [0.18493080139160156], [0.18471874296665192], [0.18453462421894073], [0.18437601625919342], [0.1842406839132309], [0.18412648141384125], [0.1840314120054245], [0.18395379185676575], [0.1838918775320053], [0.18384423851966858], [0.18380950391292572], [0.18378637731075287], [0.1837736815214157], [0.1837703138589859], [0.18377532064914703], [0.18378786742687225], [0.18380703032016754], [0.18383213877677917], [0.18386243283748627], [0.18389733135700226], [0.183936208486557], [0.1839786171913147], [0.18402403593063354], [0.18407203257083893], [0.1841222643852234], [0.18417422473430634], [0.18422767519950867], [0.1842823624610901], [0.18433800339698792], [0.18439431488513947], [0.1844511330127716], [0.18450812995433807], [0.18456526100635529], [0.18462227284908295], [0.1846790909767151], [0.18473561108112335], [0.18479162454605103], [0.18484708666801453], [0.18490195274353027], [0.18495607376098633], [0.18500946462154388], [0.185061976313591], [0.18511365354061127], [0.18516437709331512], [0.18521413207054138], [0.18526284396648407]]\n"
          ]
        }
      ],
      "source": [
        "# demonstrate prediction for next 50 days\n",
        "from numpy import array\n",
        "\n",
        "lst_output=[]\n",
        "n_steps=100\n",
        "i=0\n",
        "while(i<50):\n",
        "    \n",
        "    if(len(temp_input)>100):\n",
        "        #print(temp_input)\n",
        "        x_input=np.array(temp_input[1:])\n",
        "        print(\"{} day input {}\".format(i,x_input))\n",
        "        x_input=x_input.reshape(1,-1)\n",
        "        x_input = x_input.reshape((1, n_steps, 1))\n",
        "        #print(x_input)\n",
        "        yhat = model.predict(x_input, verbose=0)\n",
        "        print(\"{} day output {}\".format(i,yhat))\n",
        "        temp_input.extend(yhat[0].tolist())\n",
        "        temp_input=temp_input[1:]\n",
        "        #print(temp_input)\n",
        "        lst_output.extend(yhat.tolist())\n",
        "        i=i+1\n",
        "    else:\n",
        "        x_input = x_input.reshape((1, n_steps,1))\n",
        "        yhat = model.predict(x_input, verbose=0)\n",
        "        print(yhat[0])\n",
        "        temp_input.extend(yhat[0].tolist())\n",
        "        print(len(temp_input))\n",
        "        lst_output.extend(yhat.tolist())\n",
        "        i=i+1\n",
        "    \n",
        "\n",
        "print(lst_output)"
      ]
    },
    {
      "cell_type": "code",
      "source": [
        "x_input.shape"
      ],
      "metadata": {
        "colab": {
          "base_uri": "https://localhost:8080/"
        },
        "id": "tVS_j4jrXrjY",
        "outputId": "a58f7646-0d8a-44e2-f015-d391b9a79896"
      },
      "execution_count": 277,
      "outputs": [
        {
          "output_type": "execute_result",
          "data": {
            "text/plain": [
              "(1, 100, 1)"
            ]
          },
          "metadata": {},
          "execution_count": 277
        }
      ]
    },
    {
      "cell_type": "code",
      "execution_count": 278,
      "metadata": {
        "id": "XZkOC6WWQR1D"
      },
      "outputs": [],
      "source": [
        "day_new=np.arange(1,101)\n",
        "day_pred=np.arange(101,151)"
      ]
    },
    {
      "cell_type": "code",
      "execution_count": 279,
      "metadata": {
        "id": "bClD2XaJQR1D"
      },
      "outputs": [],
      "source": [
        "import matplotlib.pyplot as plt"
      ]
    },
    {
      "cell_type": "code",
      "execution_count": 280,
      "metadata": {
        "colab": {
          "base_uri": "https://localhost:8080/"
        },
        "id": "6Ey97LBWQR1D",
        "outputId": "153d82ce-26b5-4d77-ddc0-3e5ec2779d85"
      },
      "outputs": [
        {
          "output_type": "execute_result",
          "data": {
            "text/plain": [
              "2193"
            ]
          },
          "metadata": {},
          "execution_count": 280
        }
      ],
      "source": [
        "len(df1)"
      ]
    },
    {
      "cell_type": "code",
      "source": [
        "#Here we are having 2193 days data\n",
        "#Now we plot after 30 days data by using before 100 days data"
      ],
      "metadata": {
        "id": "F3HMWY_VZirg"
      },
      "execution_count": 281,
      "outputs": []
    },
    {
      "cell_type": "code",
      "execution_count": 282,
      "metadata": {
        "colab": {
          "base_uri": "https://localhost:8080/",
          "height": 286
        },
        "id": "mdXcTVDjQR1D",
        "outputId": "e72b9dba-6e16-417f-c0d4-00e1a75fadf7"
      },
      "outputs": [
        {
          "output_type": "execute_result",
          "data": {
            "text/plain": [
              "[<matplotlib.lines.Line2D at 0x7f77da704310>]"
            ]
          },
          "metadata": {},
          "execution_count": 282
        },
        {
          "output_type": "display_data",
          "data": {
            "image/png": "[encoded data removed]",
            "text/plain": [
              "<Figure size 432x288 with 1 Axes>"
            ]
          },
          "metadata": {
            "needs_background": "light"
          }
        }
      ],
      "source": [
        "plt.plot(day_new,scaler.inverse_transform(df1[2093:]))\n",
        "plt.plot(day_pred,scaler.inverse_transform(lst_output))"
      ]
    },
    {
      "cell_type": "code",
      "execution_count": 283,
      "metadata": {
        "colab": {
          "base_uri": "https://localhost:8080/",
          "height": 282
        },
        "id": "ozcD-I6OQR1E",
        "outputId": "32e271a6-1d95-44d2-fa18-fa00174a8826"
      },
      "outputs": [
        {
          "output_type": "execute_result",
          "data": {
            "text/plain": [
              "[<matplotlib.lines.Line2D at 0x7f77c9043710>]"
            ]
          },
          "metadata": {},
          "execution_count": 283
        },
        {
          "output_type": "display_data",
          "data": {
            "image/png": "[encoded data removed]",
            "text/plain": [
              "<Figure size 432x288 with 1 Axes>"
            ]
          },
          "metadata": {
            "needs_background": "light"
          }
        }
      ],
      "source": [
        "df3=df1.tolist()\n",
        "df3.extend(lst_output)\n",
        "plt.plot(df3[2180:])"
      ]
    },
    {
      "cell_type": "code",
      "execution_count": 284,
      "metadata": {
        "id": "io9fzzt7QR1E"
      },
      "outputs": [],
      "source": [
        "df3=scaler.inverse_transform(df3).tolist()"
      ]
    },
    {
      "cell_type": "code",
      "execution_count": 285,
      "metadata": {
        "colab": {
          "base_uri": "https://localhost:8080/",
          "height": 284
        },
        "id": "v4IpfWaQQR1E",
        "outputId": "7c197153-620b-43a1-85a9-5736ad01c964"
      },
      "outputs": [
        {
          "output_type": "execute_result",
          "data": {
            "text/plain": [
              "[<matplotlib.lines.Line2D at 0x7f77da8ab190>]"
            ]
          },
          "metadata": {},
          "execution_count": 285
        },
        {
          "output_type": "display_data",
          "data": {
            "image/png": "[encoded data removed]",
            "text/plain": [
              "<Figure size 432x288 with 1 Axes>"
            ]
          },
          "metadata": {
            "needs_background": "light"
          }
        }
      ],
      "source": [
        "plt.plot(df3)"
      ]
    }
  ],
  "metadata": {
    "kernelspec": {
      "display_name": "Python 3",
      "language": "python",
      "name": "python3"
    },
    "language_info": {
      "codemirror_mode": {
        "name": "ipython",
        "version": 3
      },
      "file_extension": ".py",
      "mimetype": "text/x-python",
      "name": "python",
      "nbconvert_exporter": "python",
      "pygments_lexer": "ipython3",
      "version": "3.8.5"
    },
    "colab": {
      "name": "Stock Market.ipynb",
      "provenance": [],
      "include_colab_link": true
    }
  },
  "nbformat": 4,
  "nbformat_minor": 0
}